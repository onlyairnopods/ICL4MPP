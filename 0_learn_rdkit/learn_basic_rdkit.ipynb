{
 "cells": [
  {
   "cell_type": "markdown",
   "metadata": {},
   "source": [
    "## Reading, Drawing, and Analyzing a Molecule"
   ]
  },
  {
   "cell_type": "code",
   "execution_count": 1,
   "metadata": {},
   "outputs": [],
   "source": [
    "# import RDKit\n",
    "from rdkit import Chem\n",
    "from rdkit.Chem import Draw\n",
    "\n",
    "from rdkit.Chem import RDKFingerprint\n",
    "from rdkit.Chem import rdMolDescriptors\n",
    "\n",
    "from mol2vec.features import mol2alt_sentence, MolSentence, DfVec, sentences2vec\n",
    "from gensim.models import word2vec\n",
    "\n",
    "import networkx as nx\n",
    "\n",
    "import numpy as np\n",
    "import pandas as pd\n",
    "import matplotlib.pyplot as plt"
   ]
  },
  {
   "cell_type": "code",
   "execution_count": 6,
   "metadata": {},
   "outputs": [],
   "source": [
    "# 将一个SMILES字符串转为分子结构\n",
    "caffeine_smiles = 'CN1C=NC2=C1C(=O)N(C(=O)N2C)C'\n",
    "\n",
    "mol = Chem.MolFromSmiles(caffeine_smiles)\n",
    "\n",
    "# 绘制分子\n",
    "Draw.MolToFile(mol, './images/caffine.png', size=(300,300))\n",
    "\n",
    "# 绘制出每个原子的属性\n",
    "for i, atom in enumerate(mol.GetAtoms()):\n",
    "    atom.SetProp('molAtomMapNumber', str(atom.GetIdx()))\n",
    "\n",
    "Draw.MolToFile(mol, './images/caffine_with_prop.png', size=(300,300))"
   ]
  },
  {
   "cell_type": "markdown",
   "metadata": {},
   "source": [
    "在RDKit中，GetBeginAtomIdx() 和 GetEndAtomIdx() 这两个函数通常与分子中的化学键（bonds）相关联，用于获取一个化学键所连接的两个原子在分子中的索引位置。\n",
    "\n",
    "1. GetBeginAtomIdx(): 此函数返回调用它的化学键所连接的第一个原子的索引。在RDKit中，每个原子在分子中都有一个唯一的索引，从0开始。\n",
    "\n",
    "2. GetEndAtomIdx(): 此函数返回调用它的化学键所连接的第二个原子的索引。\n",
    "\n",
    "这两个函数对于理解和操作分子结构中的化学键非常有用。例如，你可能想要知道一个化学键连接了哪两个原子，或者在遍历分子中的所有化学键时，获取连接原子的详细信息。"
   ]
  },
  {
   "cell_type": "code",
   "execution_count": 3,
   "metadata": {},
   "outputs": [
    {
     "name": "stdout",
     "output_type": "stream",
     "text": [
      "print the atoms:\n",
      "0 6 False C\n",
      "1 7 True N\n",
      "2 6 True C\n",
      "3 7 True N\n",
      "4 6 True C\n",
      "5 6 True C\n",
      "6 6 True C\n",
      "7 8 False O\n",
      "8 7 True N\n",
      "9 6 True C\n",
      "10 8 False O\n",
      "11 7 True N\n",
      "12 6 False C\n",
      "13 6 False C\n",
      "print the bonds:\n",
      "0 1 SINGLE\n",
      "1 2 AROMATIC\n",
      "2 3 AROMATIC\n",
      "3 4 AROMATIC\n",
      "4 5 AROMATIC\n",
      "5 6 AROMATIC\n",
      "6 7 DOUBLE\n",
      "6 8 AROMATIC\n",
      "8 9 AROMATIC\n",
      "9 10 DOUBLE\n",
      "9 11 AROMATIC\n",
      "11 12 SINGLE\n",
      "8 13 SINGLE\n",
      "5 1 AROMATIC\n",
      "11 4 AROMATIC\n"
     ]
    }
   ],
   "source": [
    "# 展示分子的原子和化学键\n",
    "print('print the atoms:')\n",
    "for atom in mol.GetAtoms():\n",
    "    print(atom.GetIdx(),\n",
    "          atom.GetAtomicNum(),  # 返回原子序数\n",
    "          atom.GetIsAromatic(),\n",
    "          atom.GetSymbol())\n",
    "\n",
    "print('print the bonds:')\n",
    "for bond in mol.GetBonds():\n",
    "    print(bond.GetBeginAtomIdx(),\n",
    "          bond.GetEndAtomIdx(),\n",
    "          bond.GetBondType())"
   ]
  },
  {
   "cell_type": "markdown",
   "metadata": {},
   "source": [
    "## Generating Molecular Fingerprint from a SMILES String"
   ]
  },
  {
   "cell_type": "code",
   "execution_count": 4,
   "metadata": {},
   "outputs": [
    {
     "name": "stdout",
     "output_type": "stream",
     "text": [
      "RDK Fingerprint: <rdkit.DataStructs.cDataStructs.ExplicitBitVect object at 0x0000024BE8253900>\n",
      "RDK Fingerprint in numpy: [1 1 0 ... 0 0 1]        Shape: (2048,)\n",
      "Morgan Fingerprint: <rdkit.DataStructs.cDataStructs.ExplicitBitVect object at 0x0000024BE8253B30>\n",
      "Morgan Fingerprint: [0 0 0 ... 0 0 0]        Shape: (2048,)\n"
     ]
    },
    {
     "name": "stderr",
     "output_type": "stream",
     "text": [
      "[20:11:25] DEPRECATION WARNING: please use MorganGenerator\n"
     ]
    }
   ],
   "source": [
    "# 检索 RDK Fingerprint\n",
    "fingerprint_rdk = RDKFingerprint(mol)\n",
    "print(f\"RDK Fingerprint: {fingerprint_rdk}\")\n",
    "\n",
    "fingerprint_rdk_np = np.array(fingerprint_rdk)\n",
    "print(f\"RDK Fingerprint in numpy: {fingerprint_rdk_np} \\\n",
    "       Shape: {fingerprint_rdk_np.shape}\")\n",
    "\n",
    "# 检索 Morgan Fingerprint\n",
    "fingerprint_morgan = rdMolDescriptors.GetMorganFingerprintAsBitVect(mol, radius=2)\n",
    "print(f\"Morgan Fingerprint: {fingerprint_morgan}\")\n",
    "\n",
    "fingerprint_morgan_np = np.array(fingerprint_morgan)\n",
    "print(f\"Morgan Fingerprint: {fingerprint_morgan_np} \\\n",
    "       Shape: {fingerprint_morgan_np.shape}\"\n",
    ")"
   ]
  },
  {
   "cell_type": "markdown",
   "metadata": {},
   "source": [
    "## Generating One-Hot Encoding from a SMILES string  \n",
    "在SMILES字符串的字符级别生成one-hot编码"
   ]
  },
  {
   "cell_type": "code",
   "execution_count": 5,
   "metadata": {},
   "outputs": [
    {
     "name": "stdout",
     "output_type": "stream",
     "text": [
      "caffeine_encoding.shape: (120, 56) \n",
      "Caffeine encoding: \n",
      "[[0. 0. 0. ... 0. 0. 0.]\n",
      " [0. 0. 0. ... 0. 0. 0.]\n",
      " [0. 0. 0. ... 0. 0. 0.]\n",
      " ...\n",
      " [0. 0. 0. ... 0. 0. 0.]\n",
      " [0. 0. 0. ... 0. 0. 0.]\n",
      " [0. 0. 0. ... 0. 0. 0.]]\n"
     ]
    }
   ],
   "source": [
    "# define SMILES characters ----------------------------------------------------\n",
    "SMILES_CHARS = [' ',\n",
    "                '#', '%', '(', ')', '+', '-', '.', '/',\n",
    "                '0', '1', '2', '3', '4', '5', '6', '7', '8', '9',\n",
    "                '=', '@',\n",
    "                'A', 'B', 'C', 'F', 'H', 'I', 'K', 'L', 'M', 'N', 'O', 'P',\n",
    "                'R', 'S', 'T', 'V', 'X', 'Z',\n",
    "                '[', '\\\\', ']',\n",
    "                'a', 'b', 'c', 'e', 'g', 'i', 'l', 'n', 'o', 'p', 'r', 's',\n",
    "                't', 'u']\n",
    "\n",
    "# define encoder and decoder --------------------------------------------------\n",
    "smi2index = dict( (c,i) for i,c in enumerate( SMILES_CHARS ) )\n",
    "index2smi = dict( (i,c) for i,c in enumerate( SMILES_CHARS ) )\n",
    "\n",
    "def simles_encoder(simles, maxlen=120):\n",
    "    X = np.zeros((maxlen, len(SMILES_CHARS)))\n",
    "    for i, char in enumerate(simles):\n",
    "        X[i, smi2index[char]] = 1\n",
    "    return X\n",
    "\n",
    "def simles_decoder(X):\n",
    "    smi = ''\n",
    "    X = X.argmax(axis=-1)\n",
    "    for i in X:\n",
    "        smi += index2smi[i]\n",
    "    return smi\n",
    "\n",
    "caffeine_encoding = simles_encoder(caffeine_smiles)\n",
    "print(f\"caffeine_encoding.shape: {caffeine_encoding.shape} \\nCaffeine encoding: \\n{caffeine_encoding}\")"
   ]
  },
  {
   "cell_type": "markdown",
   "metadata": {},
   "source": [
    "## Generating Word Embedding from a SMILES String  \n",
    "将词嵌入的方法应用于分子的子结构"
   ]
  },
  {
   "cell_type": "code",
   "execution_count": 2,
   "metadata": {},
   "outputs": [],
   "source": [
    "# import rdkit/mol2vec/word2vec\n",
    "from rdkit import Chem\n",
    "from mol2vec.features import mol2alt_sentence, mol2sentence, MolSentence, DfVec, sentences2vec\n",
    "from gensim.models import word2vec\n",
    "\n",
    "import numpy as np\n",
    "import pandas as pd"
   ]
  },
  {
   "cell_type": "code",
   "execution_count": 3,
   "metadata": {},
   "outputs": [],
   "source": [
    "smi1 = \"C1C(NC2=C(N1)NC(=NC2=O)N)CN(C=O)C3=CC=C(C=C3)C(=O)NC(CCC(=O)O)C(=O)O\"\n",
    "smi2 = \"C(CCl)Cl\"\n",
    "\n",
    "mol1 = Chem.MolFromSmiles(smi1)\n",
    "mol2 = Chem.MolFromSmiles(smi2)"
   ]
  },
  {
   "cell_type": "code",
   "execution_count": 4,
   "metadata": {},
   "outputs": [
    {
     "name": "stderr",
     "output_type": "stream",
     "text": [
      "[11:24:11] DEPRECATION WARNING: please use MorganGenerator\n"
     ]
    }
   ],
   "source": [
    "# create sentence from mol\n",
    "sentence = MolSentence(mol2alt_sentence(mol1, radius=1))"
   ]
  },
  {
   "cell_type": "code",
   "execution_count": null,
   "metadata": {},
   "outputs": [],
   "source": [
    "# load the word2vec model\n",
    "w2v_model = word2vec.Word2Vec.load(\"model_300dim.pkl\")"
   ]
  },
  {
   "cell_type": "markdown",
   "metadata": {},
   "source": [
    "## Generating Molecular Representation in Graph  \n",
    "将 RDKit 中的分子转换为 NetworkX 中的图形"
   ]
  },
  {
   "cell_type": "code",
   "execution_count": 6,
   "metadata": {},
   "outputs": [],
   "source": [
    "# 将 rdkit 转为 networkx\n",
    "def mol2nx(mol):\n",
    "    G = nx.Graph()\n",
    "\n",
    "    for atom in mol.GetAtoms():\n",
    "        G.add_node(atom.GetIdx(), \n",
    "                   atomic_num=atom.GetAtomicNum(),\n",
    "                   is_arotic=atom.GetIsAromatic(),\n",
    "                   atom_symbol=atom.GetSymbol())\n",
    "        \n",
    "    for bond in mol.GetBonds():\n",
    "        G.add_edge(bond.GetBeginAtomIdx(), \n",
    "                   bond.GetEndAtomIdx(), \n",
    "                   bond_type=bond.GetBondType())\n",
    "        \n",
    "    return G\n",
    "\n",
    "color_map = {\n",
    "    'C': 'cyan',\n",
    "    'O': 'orange',\n",
    "    'N': 'magenta'\n",
    "}"
   ]
  },
  {
   "cell_type": "code",
   "execution_count": 8,
   "metadata": {},
   "outputs": [
    {
     "data": {
      "image/png": "[encoded data removed]",
      "text/plain": [
       "<Figure size 640x480 with 1 Axes>"
      ]
     },
     "metadata": {},
     "output_type": "display_data"
    },
    {
     "name": "stdout",
     "output_type": "stream",
     "text": [
      "[[0. 1. 0. 0. 0. 0. 0. 0. 0. 0. 0. 0. 0. 0.]\n",
      " [1. 0. 1. 0. 0. 1. 0. 0. 0. 0. 0. 0. 0. 0.]\n",
      " [0. 1. 0. 1. 0. 0. 0. 0. 0. 0. 0. 0. 0. 0.]\n",
      " [0. 0. 1. 0. 1. 0. 0. 0. 0. 0. 0. 0. 0. 0.]\n",
      " [0. 0. 0. 1. 0. 1. 0. 0. 0. 0. 0. 1. 0. 0.]\n",
      " [0. 1. 0. 0. 1. 0. 1. 0. 0. 0. 0. 0. 0. 0.]\n",
      " [0. 0. 0. 0. 0. 1. 0. 1. 1. 0. 0. 0. 0. 0.]\n",
      " [0. 0. 0. 0. 0. 0. 1. 0. 0. 0. 0. 0. 0. 0.]\n",
      " [0. 0. 0. 0. 0. 0. 1. 0. 0. 1. 0. 0. 0. 1.]\n",
      " [0. 0. 0. 0. 0. 0. 0. 0. 1. 0. 1. 1. 0. 0.]\n",
      " [0. 0. 0. 0. 0. 0. 0. 0. 0. 1. 0. 0. 0. 0.]\n",
      " [0. 0. 0. 0. 1. 0. 0. 0. 0. 1. 0. 0. 1. 0.]\n",
      " [0. 0. 0. 0. 0. 0. 0. 0. 0. 0. 0. 1. 0. 0.]\n",
      " [0. 0. 0. 0. 0. 0. 0. 0. 1. 0. 0. 0. 0. 0.]]\n"
     ]
    }
   ],
   "source": [
    "caffeine_nx_graph = mol2nx(mol)\n",
    "\n",
    "caffeine_atom = nx.get_node_attributes(caffeine_nx_graph, 'atom_symbol')\n",
    "\n",
    "caffeine_colors = []\n",
    "for idx in caffeine_nx_graph.nodes():\n",
    "    if (caffeine_nx_graph.nodes[idx]['atom_symbol'] in color_map):\n",
    "        caffeine_colors.append(color_map[caffeine_nx_graph.nodes[idx]['atom_symbol']])\n",
    "    else:\n",
    "        caffeine_colors.append('gray')\n",
    "\n",
    "nx.draw(caffeine_nx_graph,\n",
    "        labels=caffeine_atom,\n",
    "        with_labels=True,\n",
    "        node_color=caffeine_colors,\n",
    "        node_size=800)\n",
    "plt.show()\n",
    "\n",
    "# 输出邻接矩阵\n",
    "adj_matrix = nx.to_numpy_array(caffeine_nx_graph)\n",
    "print(adj_matrix)"
   ]
  },
  {
   "cell_type": "markdown",
   "metadata": {},
   "source": [
    "一般来说，图嵌入由三个主题组成：节点级嵌入（将图中的节点编码为向量）、边缘级嵌入（将图中的边编码为向量）和图级嵌入（将整个图编码为向量）。在这篇文章中，我们将术语图嵌入视为图级嵌入，它为分子找到一个向量，该向量可以用作下游模型的输入。  \n",
    "\n",
    "将 RDKit 中的分子转换为 NetworkX 中的图形，并通过 KarateClub 下的 Graph2Vec 生成其图形嵌入的代码。Graph2Vec 是一种图嵌入算法，KarateClub 是一个为图数据提供无监督机器学习模型的软件包"
   ]
  },
  {
   "cell_type": "code",
   "execution_count": 1,
   "metadata": {},
   "outputs": [],
   "source": [
    "# import rdkit/networkx/graph2vec\n",
    "from rdkit import Chem\n",
    "import networkx as nx\n",
    "from karateclub import Graph2Vec"
   ]
  },
  {
   "cell_type": "code",
   "execution_count": 2,
   "metadata": {},
   "outputs": [],
   "source": [
    "def smiles2nx(smi):\n",
    "    mol = Chem.MolFromSmiles(smi)\n",
    "    G = nx.Graph()\n",
    "\n",
    "    for atom in mol.GetAtoms():\n",
    "        G.add_node(atom.GetIdx(), \n",
    "                   atomic_num=atom.GetAtomicNum(),\n",
    "                   is_arotic=atom.GetIsAromatic(),\n",
    "                   atom_symbol=atom.GetSymbol())\n",
    "\n",
    "    for bond in mol.GetBonds(): \n",
    "        G.add_edge(bond.GetBeginAtomIdx(), \n",
    "                   bond.GetEndAtomIdx(), \n",
    "                   bond_type=bond.GetBondType())\n",
    "\n",
    "    return G"
   ]
  },
  {
   "cell_type": "code",
   "execution_count": 10,
   "metadata": {},
   "outputs": [
    {
     "name": "stdout",
     "output_type": "stream",
     "text": [
      "[[ 6.24450669e-03  7.31988903e-03  6.24006055e-03 -5.99076785e-03\n",
      "  -6.63260417e-03 -3.53924930e-03 -3.34743224e-03  3.59894964e-03\n",
      "  -5.20930393e-03 -6.60916697e-03 -3.61388014e-03  7.59077165e-03\n",
      "  -3.64172598e-03  1.17201218e-03  6.87342696e-03  3.38666956e-03\n",
      "  -7.59500253e-04  7.29397126e-03 -4.64901933e-03  4.32103174e-03\n",
      "   3.15239793e-03 -2.75088497e-03 -7.29451829e-04 -6.88411715e-03\n",
      "   4.12077679e-05 -2.07462232e-03  7.74890510e-03 -3.68959573e-03\n",
      "  -5.28225536e-03  8.78037827e-04 -6.11178298e-03 -6.22744439e-03\n",
      "  -5.12534752e-03 -4.76617087e-03 -3.39930691e-03 -1.53508061e-03\n",
      "  -1.94117893e-03  4.50850325e-03  5.34264510e-03 -3.54541768e-03\n",
      "  -4.95912228e-03  6.09943178e-04 -3.52512882e-03  2.01975454e-05\n",
      "   5.61044412e-03  3.03675514e-03 -4.22990602e-03 -1.00301707e-03\n",
      "   1.43025871e-04 -6.31882204e-03  7.70978769e-03  6.50099386e-03\n",
      "  -2.33168339e-05  4.57346812e-03  3.52309807e-03  6.77101407e-03\n",
      "   2.85385968e-03 -7.25552626e-03 -1.91660586e-03  2.80478969e-03\n",
      "  -4.47777566e-04  3.83218611e-03  2.75648152e-03  3.45965452e-03\n",
      "   4.33374848e-03  4.51055914e-03 -3.90306604e-03  3.61980381e-03\n",
      "   7.65041215e-03  8.49781558e-04 -6.03839150e-03 -6.71245903e-03\n",
      "   2.71134730e-03  2.80452985e-03 -5.45546925e-03  1.01119134e-04\n",
      "  -4.09662956e-03 -4.45944071e-03 -4.21139225e-03 -3.45913181e-03\n",
      "  -7.57164322e-03 -2.85782805e-03 -3.16989166e-03 -2.48595164e-03\n",
      "  -3.72377085e-03  5.26087964e-03  3.90929403e-03 -4.74620750e-03\n",
      "   7.33473280e-04 -1.22910074e-03  4.36839228e-03 -2.01625237e-03\n",
      "  -1.13765898e-04  7.05544511e-03  6.13173353e-04  6.56933058e-03\n",
      "  -2.79500498e-03 -1.96516019e-04 -5.75146347e-04 -3.01237754e-03\n",
      "  -1.68303761e-03 -5.70646860e-03  3.48744425e-03  6.86598709e-03\n",
      "   7.32949749e-03  7.02834036e-03  7.06869271e-03 -6.07990799e-03\n",
      "  -4.90751863e-03 -5.17555466e-03 -2.08897819e-03 -4.83266870e-03\n",
      "  -1.19792088e-03 -2.94386409e-03  4.19981498e-03  5.00152307e-03\n",
      "  -2.16187933e-03  6.48516417e-03  3.44117871e-03 -4.87023825e-03\n",
      "   2.13906681e-03  2.74195406e-03  1.19642145e-03  7.23610353e-03\n",
      "  -1.17999536e-03  4.96076746e-03  2.96676345e-03  5.07835764e-03]]\n"
     ]
    }
   ],
   "source": [
    "caffeine_nx_graph = smiles2nx(caffeine_smiles)\n",
    "# create graph2vec model\n",
    "g2v_model = Graph2Vec(dimensions=128, workers=4)\n",
    "# fit model\n",
    "g2v_model.fit([caffeine_nx_graph])\n",
    "# get embedding\n",
    "embedding = g2v_model.get_embedding()\n",
    "print(embedding)"
   ]
  },
  {
   "cell_type": "code",
   "execution_count": 12,
   "metadata": {},
   "outputs": [
    {
     "data": {
      "text/plain": [
       "(1, 128)"
      ]
     },
     "execution_count": 12,
     "metadata": {},
     "output_type": "execute_result"
    }
   ],
   "source": [
    "embedding.shape"
   ]
  },
  {
   "cell_type": "code",
   "execution_count": 2,
   "metadata": {},
   "outputs": [],
   "source": [
    "from rdkit import Chem\n",
    "from rdkit.Chem import AllChem, Draw\n",
    "import matplotlib.pyplot as plt\n",
    "\n",
    "# 1. 将 SMILES 转换为分子对象\n",
    "smiles = 'CCO'  # 乙醇的 SMILES\n",
    "mol = Chem.MolFromSmiles(smiles)\n",
    "\n",
    "# 2. 生成 2D 坐标\n",
    "AllChem.Compute2DCoords(mol)\n",
    "\n",
    "# 3. 绘制并显示分子图像\n",
    "img = Draw.MolToImage(mol)  # 返回分子图的PIL图像对象\n",
    "img.show()"
   ]
  },
  {
   "cell_type": "code",
   "execution_count": null,
   "metadata": {},
   "outputs": [],
   "source": []
  }
 ],
 "metadata": {
  "kernelspec": {
   "display_name": "base",
   "language": "python",
   "name": "python3"
  },
  "language_info": {
   "codemirror_mode": {
    "name": "ipython",
    "version": 3
   },
   "file_extension": ".py",
   "mimetype": "text/x-python",
   "name": "python",
   "nbconvert_exporter": "python",
   "pygments_lexer": "ipython3",
   "version": "3.9.16"
  }
 },
 "nbformat": 4,
 "nbformat_minor": 2
}
