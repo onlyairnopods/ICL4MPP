{
 "cells": [
  {
   "cell_type": "code",
   "execution_count": 1,
   "metadata": {},
   "outputs": [
    {
     "name": "stderr",
     "output_type": "stream",
     "text": [
      "No normalization for SPS. Feature removed!\n",
      "No normalization for AvgIpc. Feature removed!\n",
      "2024-07-21 15:10:39.511128: I tensorflow/core/platform/cpu_feature_guard.cc:182] This TensorFlow binary is optimized to use available CPU instructions in performance-critical operations.\n",
      "To enable the following instructions: AVX2 FMA, in other operations, rebuild TensorFlow with the appropriate compiler flags.\n",
      "2024-07-21 15:10:40.288138: W tensorflow/compiler/tf2tensorrt/utils/py_utils.cc:38] TF-TRT Warning: Could not find TensorRT\n",
      "Skipped loading modules with pytorch-geometric dependency, missing a dependency. No module named 'torch_geometric'\n",
      "Skipped loading modules with pytorch-geometric dependency, missing a dependency. cannot import name 'DMPNN' from 'deepchem.models.torch_models' (/home/fangmiaoNLP/.conda/envs/LZZ/lib/python3.8/site-packages/deepchem/models/torch_models/__init__.py)\n",
      "Skipped loading modules with pytorch-lightning dependency, missing a dependency. No module named 'lightning'\n",
      "Skipped loading some Jax models, missing a dependency. No module named 'jax'\n"
     ]
    }
   ],
   "source": [
    "import deepchem\n",
    "import deepchem.molnet"
   ]
  },
  {
   "cell_type": "code",
   "execution_count": null,
   "metadata": {},
   "outputs": [],
   "source": [
    "tasks, datasets, transformers = deepchem.molnet.load_clintox(splitter='scaffold', reload=True,\n",
    "                                                             data_dir='./data/clintox_data',\n",
    "                                                             save_dir='./data/clintox_datasets')"
   ]
  },
  {
   "cell_type": "code",
   "execution_count": 3,
   "metadata": {},
   "outputs": [],
   "source": [
    "train_dataset, valid_dataset, test_dataset = datasets"
   ]
  },
  {
   "cell_type": "code",
   "execution_count": 4,
   "metadata": {},
   "outputs": [
    {
     "name": "stdout",
     "output_type": "stream",
     "text": [
      "['FDA_APPROVED', 'CT_TOX']\n"
     ]
    }
   ],
   "source": [
    "print(tasks)"
   ]
  },
  {
   "cell_type": "code",
   "execution_count": 5,
   "metadata": {},
   "outputs": [
    {
     "name": "stdout",
     "output_type": "stream",
     "text": [
      "(<DiskDataset X.shape: (1184, 1024), y.shape: (1184, 2), w.shape: (1184, 2), task_names: ['FDA_APPROVED' 'CT_TOX']>, <DiskDataset X.shape: (148, 1024), y.shape: (148, 2), w.shape: (148, 2), ids: ['CC(C)OC(=O)CCC/C=C\\\\C[C@H]1[C@H](C[C@H]([C@@H]1/C=C/[C@H](COc2cccc(c2)C(F)(F)F)O)O)O'\n",
      " 'CC(C)Nc1cccnc1N2CCN(CC2)C(=O)c3cc4cc(ccc4[nH]3)NS(=O)(=O)C'\n",
      " 'CC(C)n1c2ccccc2c(c1/C=C/[C@@H](C[C@@H](CC(=O)[O-])O)O)c3ccc(cc3)F' ...\n",
      " 'C[C@@H](C(=O)N[C@H](CC(C)C)C(=O)N[C@@H](C)C(=O)N[C@H](C(C)C)C(=O)N[C@@H](C(C)C)C(=O)N[C@@H](C(C)C)C(=O)N[C@@H](Cc1c[nH]c2c1cccc2)C(=O)N[C@H](CC(C)C)C(=O)N[C@@H](Cc3c[nH]c4c3cccc4)C(=O)N[C@H](CC(C)C)C(=O)N[C@@H](Cc5c[nH]c6c5cccc6)C(=O)N[C@H](CC(C)C)C(=O)N[C@@H](Cc7c[nH]c8c7cccc8)C(=O)NCCO)NC(=O)CNC(=O)[C@H](C(C)C)NC=O'\n",
      " 'C[C@@H]([C@@H]([C@H]1CNc2c(c(=O)nc([nH]2)N)N1)O)O'\n",
      " 'C[C@@]1(C(=O)N2[C@H](C(=O)N3CCC[C@H]3[C@@]2(O1)O)Cc4ccccc4)NC(=O)[C@H]5C[NH+]([C@@H]6Cc7c[nH]c8c7c(ccc8)C6=C5)C'], task_names: ['FDA_APPROVED' 'CT_TOX']>, <DiskDataset X.shape: (148, 1024), y.shape: (148, 2), w.shape: (148, 2), ids: ['C[C@@]1(C(=O)N2[C@H](C(=O)N3CCC[C@H]3[C@@]2(O1)O)Cc4ccccc4)NC(=O)[C@@H]5C[C@@H]6c7cccc8c7c(c[nH]8)C[C@H]6[NH+](C5)C'\n",
      " 'C[C@@]1([C@@H](N2[C@H](S1(=O)=O)CC2=O)C(=O)[O-])Cn3ccnn3'\n",
      " 'C[C@@](c1ccccc1)(c2ccc(cc2)Cl)OCC[C@H]3CCC[NH+]3C' ...\n",
      " 'C#CC[NH2+][C@@H]1CCc2c1cccc2'\n",
      " '[H]/[NH+]=C(\\\\N)/c1ccc(cc1)OCCCCCOc2ccc(cc2)/C(=[NH+]/[H])/N'\n",
      " '[H]/[NH+]=C(/C1=CC(=O)/C(=C\\\\C=c2ccc(=C([NH3+])N)cc2)/C=C1)\\\\N'], task_names: ['FDA_APPROVED' 'CT_TOX']>)\n"
     ]
    }
   ],
   "source": [
    "print(datasets)"
   ]
  },
  {
   "cell_type": "code",
   "execution_count": 9,
   "metadata": {},
   "outputs": [
    {
     "name": "stdout",
     "output_type": "stream",
     "text": [
      "<DiskDataset X.shape: (1184, 1024), y.shape: (1184, 2), w.shape: (1184, 2), task_names: ['FDA_APPROVED' 'CT_TOX']>\n",
      "<DiskDataset X.shape: (148, 1024), y.shape: (148, 2), w.shape: (148, 2), ids: ['CC(C)OC(=O)CCC/C=C\\\\C[C@H]1[C@H](C[C@H]([C@@H]1/C=C/[C@H](COc2cccc(c2)C(F)(F)F)O)O)O'\n",
      " 'CC(C)Nc1cccnc1N2CCN(CC2)C(=O)c3cc4cc(ccc4[nH]3)NS(=O)(=O)C'\n",
      " 'CC(C)n1c2ccccc2c(c1/C=C/[C@@H](C[C@@H](CC(=O)[O-])O)O)c3ccc(cc3)F' ...\n",
      " 'C[C@@H](C(=O)N[C@H](CC(C)C)C(=O)N[C@@H](C)C(=O)N[C@H](C(C)C)C(=O)N[C@@H](C(C)C)C(=O)N[C@@H](C(C)C)C(=O)N[C@@H](Cc1c[nH]c2c1cccc2)C(=O)N[C@H](CC(C)C)C(=O)N[C@@H](Cc3c[nH]c4c3cccc4)C(=O)N[C@H](CC(C)C)C(=O)N[C@@H](Cc5c[nH]c6c5cccc6)C(=O)N[C@H](CC(C)C)C(=O)N[C@@H](Cc7c[nH]c8c7cccc8)C(=O)NCCO)NC(=O)CNC(=O)[C@H](C(C)C)NC=O'\n",
      " 'C[C@@H]([C@@H]([C@H]1CNc2c(c(=O)nc([nH]2)N)N1)O)O'\n",
      " 'C[C@@]1(C(=O)N2[C@H](C(=O)N3CCC[C@H]3[C@@]2(O1)O)Cc4ccccc4)NC(=O)[C@H]5C[NH+]([C@@H]6Cc7c[nH]c8c7c(ccc8)C6=C5)C'], task_names: ['FDA_APPROVED' 'CT_TOX']>\n",
      "<DiskDataset X.shape: (148, 1024), y.shape: (148, 2), w.shape: (148, 2), ids: ['C[C@@]1(C(=O)N2[C@H](C(=O)N3CCC[C@H]3[C@@]2(O1)O)Cc4ccccc4)NC(=O)[C@@H]5C[C@@H]6c7cccc8c7c(c[nH]8)C[C@H]6[NH+](C5)C'\n",
      " 'C[C@@]1([C@@H](N2[C@H](S1(=O)=O)CC2=O)C(=O)[O-])Cn3ccnn3'\n",
      " 'C[C@@](c1ccccc1)(c2ccc(cc2)Cl)OCC[C@H]3CCC[NH+]3C' ...\n",
      " 'C#CC[NH2+][C@@H]1CCc2c1cccc2'\n",
      " '[H]/[NH+]=C(\\\\N)/c1ccc(cc1)OCCCCCOc2ccc(cc2)/C(=[NH+]/[H])/N'\n",
      " '[H]/[NH+]=C(/C1=CC(=O)/C(=C\\\\C=c2ccc(=C([NH3+])N)cc2)/C=C1)\\\\N'], task_names: ['FDA_APPROVED' 'CT_TOX']>\n"
     ]
    }
   ],
   "source": [
    "print(train_dataset)\n",
    "print(valid_dataset)\n",
    "print(test_dataset)"
   ]
  },
  {
   "cell_type": "code",
   "execution_count": 11,
   "metadata": {},
   "outputs": [
    {
     "name": "stdout",
     "output_type": "stream",
     "text": [
      "[0. 1. 0. ... 0. 0. 0.]\n",
      "[0. 1.]\n"
     ]
    }
   ],
   "source": [
    "print(train_dataset.X[0])\n",
    "print(train_dataset.y[0])"
   ]
  },
  {
   "cell_type": "code",
   "execution_count": 14,
   "metadata": {},
   "outputs": [
    {
     "name": "stdout",
     "output_type": "stream",
     "text": [
      "[0. 0. 0. ... 0. 0. 0.] [1. 0.] [1.07149321 1.087236  ] C[C@@]1(C(=O)N2[C@H](C(=O)N3CCC[C@H]3[C@@]2(O1)O)Cc4ccccc4)NC(=O)[C@@H]5C[C@@H]6c7cccc8c7c(c[nH]8)C[C@H]6[NH+](C5)C\n",
      "[0. 0. 0. ... 0. 1. 0.] [1. 0.] [1.07149321 1.087236  ] C[C@@]1([C@@H](N2[C@H](S1(=O)=O)CC2=O)C(=O)[O-])Cn3ccnn3\n",
      "[0. 0. 0. ... 0. 0. 0.] [1. 0.] [1.07149321 1.087236  ] C[C@@](c1ccccc1)(c2ccc(cc2)Cl)OCC[C@H]3CCC[NH+]3C\n",
      "[0. 0. 0. ... 0. 0. 0.] [1. 0.] [1.07149321 1.087236  ] c1nc2c(nc(nc2n1[C@@H]3C[C@@H](C=C3)CO)N)NC4CC4\n",
      "[0. 0. 0. ... 0. 0. 0.] [1. 0.] [1.07149321 1.087236  ] c1nc2c(n1[C@H]3C[C@@H]([C@H](O3)CO)O)NC=[NH+]C[C@H]2O\n",
      "[0. 0. 0. ... 0. 0. 0.] [1. 0.] [1.07149321 1.087236  ] c1nc(nn1[C@H]2[C@@H]([C@@H]([C@H](O2)CO)O)O)C(=O)N\n",
      "[0. 0. 0. ... 0. 0. 0.] [1. 0.] [1.07149321 1.087236  ] c1cnc2cc3c(cc2n1)[C@@H]4C[C@H]3C[NH2+]C4\n",
      "[0. 0. 0. ... 0. 0. 0.] [1. 0.] [1.07149321 1.087236  ] c1cnc(nc1)N2CC[NH+](CC2)CCCCN3C(=O)CC4(CCCC4)CC3=O\n",
      "[0. 0. 0. ... 0. 0. 0.] [1. 0.] [1.07149321 1.087236  ] C1CN1P(=S)(N2CC2)N3CC3\n",
      "[0. 0. 0. ... 0. 0. 0.] [0. 1.] [14.98734177 12.46315789] C1CN(CCN1CC2=CC3=C(C=C2)OC(O3)(F)F)C(=O)NC4=C(C=CN=C4)Cl\n",
      "[0. 0. 0. ... 0. 0. 0.] [1. 0.] [1.07149321 1.087236  ] C1CN(CCN1C(=O)CCBr)C(=O)CCBr\n",
      "[0. 0. 0. ... 0. 0. 0.] [1. 0.] [1.07149321 1.087236  ] c1ccnc(c1)[N-]S(=O)(=O)c2ccc(cc2)N\n",
      "[0. 0. 0. ... 0. 0. 0.] [1. 0.] [1.07149321 1.087236  ] c1ccnc(c1)[N-]S(=O)(=O)c2ccc(cc2)/N=N/c3ccc(c(c3)C(=O)[O-])O\n",
      "[0. 1. 0. ... 0. 0. 0.] [1. 0.] [1.07149321 1.087236  ] c1ccnc(c1)[C@H](c2ccc(cc2)Cl)OC3CC[NH+](CC3)CCCC(=O)[O-]\n",
      "[0. 0. 0. ... 0. 0. 0.] [0. 1.] [14.98734177 12.46315789] C1CCN[C@@H](C1)C2(CN(C2)C(=O)C3=C(C(=C(C=C3)F)F)NC4=C(C=C(C=C4)I)F)O\n",
      "[0. 0. 0. ... 0. 0. 0.] [1. 0.] [1.07149321 1.087236  ] c1ccn2c(c1)nn(c2=O)CCC[NH+]3CCN(CC3)c4cccc(c4)Cl\n",
      "[0. 0. 1. ... 0. 0. 0.] [0. 1.] [14.98734177 12.46315789] C1CCN(CC1)C(=O)C2=CC3=NON=C3C=C2\n",
      "[0. 0. 0. ... 0. 0. 0.] [1. 0.] [1.07149321 1.087236  ] c1ccn(c(=S)c1)[O-]\n",
      "[0. 0. 1. ... 0. 0. 0.] [1. 0.] [1.07149321 1.087236  ] C1CCCN(CCC1)CC[NH+]=C(N)N\n",
      "[0. 0. 0. ... 0. 0. 0.] [1. 0.] [1.07149321 1.087236  ] c1ccc2c(c1)cnnc2NN\n",
      "[0. 0. 1. ... 0. 0. 0.] [1. 0.] [1.07149321 1.087236  ] c1ccc2c(c1)CCN3C2CN(CC3=O)C(=O)C4CCCCC4\n",
      "[0. 0. 0. ... 0. 0. 0.] [1. 0.] [1.07149321 1.087236  ] c1ccc2c(c1)cccc2CC3=[NH+]CCN3\n",
      "[0. 0. 0. ... 0. 0. 0.] [1. 0.] [1.07149321 1.087236  ] c1ccc2c(c1)CCCC2C3=[NH+]CCN3\n",
      "[0. 0. 0. ... 0. 0. 0.] [1. 0.] [1.07149321 1.087236  ] c1ccc2c(c1)C=Cc3ccccc3N2C(=O)N\n",
      "[0. 0. 0. ... 0. 0. 0.] [1. 0.] [1.07149321 1.087236  ] c1ccc2c(c1)Cc3ccccc3N4C2C[NH+]=C4N\n",
      "[0. 0. 0. ... 0. 0. 0.] [1. 0.] [1.07149321 1.087236  ] c1ccc2c(c1)CC(=O)c3ccccc3N2C(=O)N\n",
      "[0. 1. 0. ... 0. 0. 0.] [1. 0.] [1.07149321 1.087236  ] c1ccc2c(c1)CC(N(C2)C(=O)[C@H](CO)NC(=O)[C@H](Cc3cccs3)NC(=O)CNC(=O)C4C[C@H](CN4C(=O)C5CCCN5C(=O)C(CCC[NH+]=C(N)N)NC(=O)[C@@H](CCC[NH+]=C(N)N)[NH3+])O)C(=O)N6[C@H]7CCCC[C@H]7CC6C(=O)N[C@@H](CCC[NH+]=C(N)N)C(=O)[O-]\n",
      "[0. 0. 0. ... 0. 0. 0.] [1. 0.] [1.07149321 1.087236  ] c1ccc2c(c1)cc(c(c2Cc3c4ccccc4cc(c3O)C(=O)[O-])O)C(=O)[O-]\n",
      "[0. 1. 0. ... 0. 0. 0.] [1. 0.] [1.07149321 1.087236  ] c1ccc2c(c1)c3c([nH]2)CN(CC3)C(=O)CCS\n",
      "[0. 0. 0. ... 0. 0. 0.] [1. 0.] [1.07149321 1.087236  ] c1ccc2c(c1)C3=[NH+]CCN3C2(c4ccc(cc4)Cl)O\n",
      "[0. 0. 0. ... 0. 0. 0.] [1. 0.] [1.07149321 1.087236  ] c1ccc2c(c1)C(=O)O[Bi](O2)O\n",
      "[0. 0. 0. ... 0. 0. 0.] [1. 0.] [1.07149321 1.087236  ] c1ccc2c(c1)C(=O)NC2(c3ccc(c(c3)S(=O)(=O)N)Cl)O\n",
      "[0. 0. 0. ... 0. 0. 0.] [1. 0.] [1.07149321 1.087236  ] c1ccc2c(c1)c(ns2)N3CC[NH+](CC3)CCc4cc5c(cc4Cl)NC(=O)C5\n",
      "[0. 0. 0. ... 0. 0. 1.] [1. 0.] [1.07149321 1.087236  ] c1ccc2c(c1)c(ns2)N3CC[NH+](CC3)C[C@@H]4CCCC[C@H]4CN5C(=O)[C@H]6[C@@H]7CC[C@@H](C7)[C@H]6C5=O\n",
      "[0. 0. 0. ... 0. 0. 0.] [1. 0.] [1.07149321 1.087236  ] c1ccc2c(c1)c(no2)CS(=O)(=O)N\n",
      "[0. 0. 0. ... 0. 0. 0.] [0. 1.] [14.98734177 12.46315789] C1=CC=C2C(=C1)C(=NN=C2NC3=CC=C(C=C3)Cl)CC4=CC=NC=C4\n",
      "[0. 0. 0. ... 0. 0. 0.] [1. 0.] [1.07149321 1.087236  ] c1ccc2c(c1)c(c[nH]2)C(=O)OC3C[C@H]4CC5CC(C3)[NH+]4CC5=O\n",
      "[0. 0. 0. ... 0. 0. 0.] [1. 0.] [1.07149321 1.087236  ] c1ccc2c(c1)c(c3c([nH+]2)CCCC3)N\n",
      "[0. 0. 0. ... 0. 0. 0.] [1. 0.] [1.07149321 1.087236  ] c1ccc2c(c1)c(c(c(=O)o2)Cc3c(c4ccccc4oc3=O)[O-])[O-]\n",
      "[0. 1. 0. ... 0. 0. 0.] [1. 0.] [1.07149321 1.087236  ] c1ccc2c(c1)c(c(c(n2)C3CC3)/C=C/[C@H](C[C@H](CC(=O)[O-])O)O)c4ccc(cc4)F\n",
      "[0. 0. 0. ... 0. 0. 0.] [1. 0.] [1.07149321 1.087236  ] c1ccc2c(c1)C(=[NH+]c3ccccc3S2)N4CC[NH+](CC4)CCOCCO\n",
      "[0. 0. 0. ... 0. 0. 0.] [1. 0.] [1.07149321 1.087236  ] c1ccc2c(c1)[nH]c(=O)n2C3=CC[NH+](CC3)CCCC(=O)c4ccc(cc4)F\n",
      "[0. 1. 0. ... 0. 1. 0.] [1. 0.] [1.07149321 1.087236  ] c1ccc2c(c1)[nH]c(=O)n2C3CC[NH+](CC3)CCCC(c4ccc(cc4)F)c5ccc(cc5)F\n",
      "[0. 0. 1. ... 0. 0. 0.] [1. 0.] [1.07149321 1.087236  ] C1CCC2(CC1)OCC(O2)C[NH+]=C(N)N\n",
      "[0. 0. 0. ... 0. 0. 0.] [1. 0.] [1.07149321 1.087236  ] c1ccc(cc1)OC(=O)c2ccc(cc2O)N\n",
      "[0. 0. 0. ... 0. 0. 0.] [0. 1.] [14.98734177 12.46315789] C1=CC=C(C=C1)NS(=O)(=O)C2=CC=CC(=C2)/C=C/C(=O)NO\n",
      "[0. 0. 0. ... 0. 0. 0.] [1. 0.] [1.07149321 1.087236  ] c1ccc(cc1)n2c(ccn2)[N-]S(=O)(=O)c3ccc(cc3)N\n",
      "[0. 0. 0. ... 0. 0. 0.] [1. 0.] [1.07149321 1.087236  ] c1ccc(cc1)CSCC2=NS(=O)(=O)c3cc(c(cc3N2)Cl)S(=O)(=O)N\n",
      "[0. 0. 0. ... 0. 0. 0.] [1. 0.] [1.07149321 1.087236  ] c1ccc(cc1)COC(=O)c2ccccc2\n",
      "[1. 0. 0. ... 0. 1. 0.] [1. 0.] [1.07149321 1.087236  ] c1ccc(cc1)CN2C3C[S+]4CCCC4C3N(C2=O)Cc5ccccc5\n",
      "[0. 0. 0. ... 0. 0. 0.] [1. 0.] [1.07149321 1.087236  ] c1ccc(cc1)CN(CC2=[NH+]CCN2)c3ccccc3\n",
      "[0. 1. 0. ... 0. 0. 0.] [1. 0.] [1.07149321 1.087236  ] c1ccc(cc1)CCCCOCCCCCC[NH2+]CC(c2ccc(c(c2)CO)O)O\n",
      "[0. 0. 0. ... 0. 0. 0.] [1. 0.] [1.07149321 1.087236  ] c1ccc(cc1)CC2Nc3cc(c(cc3S(=O)(=O)N2)S(=O)(=O)N)C(F)(F)F\n",
      "[0. 0. 0. ... 0. 0. 0.] [1. 0.] [1.07149321 1.087236  ] c1ccc(cc1)C2=NCC(=O)N(c3c2cc(cc3)Cl)CC4CC4\n",
      "[0. 0. 0. ... 0. 0. 0.] [1. 0.] [1.07149321 1.087236  ] c1ccc(cc1)c2c(oc(n2)CCC(=O)[O-])c3ccccc3\n",
      "[0. 0. 0. ... 0. 0. 0.] [1. 0.] [1.07149321 1.087236  ] c1ccc(cc1)C2C(=O)[NH+]=C(O2)N\n",
      "[0. 0. 0. ... 0. 0. 0.] [1. 0.] [1.07149321 1.087236  ] c1ccc(cc1)c2c(nc3c(n2)c(nc(n3)N)N)N\n",
      "[0. 0. 0. ... 0. 0. 0.] [1. 0.] [1.07149321 1.087236  ] c1ccc(cc1)C(=O)OOC(=O)c2ccccc2\n",
      "[0. 1. 0. ... 0. 0. 0.] [1. 0.] [1.07149321 1.087236  ] c1ccc(cc1)C(=O)NC(Cc2ccc(cc2)O)C(=O)Nc3ccc(cc3)C(=O)[O-]\n",
      "[0. 0. 0. ... 0. 0. 0.] [1. 0.] [1.07149321 1.087236  ] c1ccc(cc1)C(=O)c2ccc3n2CCC3C(=O)[O-]\n",
      "[0. 0. 1. ... 0. 0. 0.] [1. 0.] [1.07149321 1.087236  ] c1ccc(cc1)C(CCC[NH+]2CCCCC2)(c3ccccc3)O\n",
      "[0. 0. 1. ... 0. 0. 0.] [1. 0.] [1.07149321 1.087236  ] c1ccc(cc1)C(CC[NH+]2CCCCC2)(C3CCCCC3)O\n",
      "[0. 0. 1. ... 0. 0. 0.] [1. 0.] [1.07149321 1.087236  ] c1ccc(cc1)C(CC[NH+]2CCCCC2)(C3CCCC3)O\n",
      "[0. 0. 1. ... 0. 0. 0.] [1. 0.] [1.07149321 1.087236  ] c1ccc(cc1)C(CC[NH+]2CCCCC2)(C3CC4CC3C=C4)O\n",
      "[0. 0. 1. ... 0. 0. 0.] [1. 0.] [1.07149321 1.087236  ] c1ccc(cc1)C(CC[NH+]2CCCC2)(C3CCCCC3)O\n",
      "[0. 0. 0. ... 0. 0. 0.] [1. 0.] [1.07149321 1.087236  ] c1ccc(cc1)C(c2ccccc2)(c3ccccc3Cl)n4ccnc4\n",
      "[0. 0. 0. ... 0. 0. 0.] [1. 0.] [1.07149321 1.087236  ] c1ccc(cc1)C(c2ccccc2)(C(=O)OC3CC4CCC(C3)[N+]45CCCC5)O\n",
      "[0. 0. 0. ... 0. 0. 0.] [1. 0.] [1.07149321 1.087236  ] c1ccc(cc1)C(c2ccccc2)([C@@H]3CC[NH+](C3)CCc4ccc5c(c4)CCO5)C(=O)N\n",
      "[0. 0. 0. ... 0. 0. 0.] [1. 0.] [1.07149321 1.087236  ] c1ccc(cc1)[C@H]2CN3CCSC3=[NH+]2\n",
      "[0. 0. 0. ... 0. 0. 0.] [1. 0.] [1.07149321 1.087236  ] c1ccc(cc1)[C@H]2c3ccccc3CCN2C(=O)O[C@H]4C[NH+]5CCC4CC5\n",
      "[0. 1. 0. ... 0. 0. 0.] [1. 0.] [1.07149321 1.087236  ] c1ccc(cc1)[C@H](C(=O)N[C@H]2[C@H]3CCC(=C(N3C2=O)C(=O)[O-])Cl)[NH3+]\n",
      "[0. 0. 0. ... 0. 0. 0.] [1. 0.] [1.07149321 1.087236  ] c1ccc(cc1)/N=N/c2ccc(nc2N)N\n",
      "[0. 0. 0. ... 0. 0. 0.] [1. 0.] [1.07149321 1.087236  ] c1ccc(c(c1)C2=NCC(=S)N(c3c2cc(cc3)Cl)CC(F)(F)F)F\n",
      "[0. 0. 0. ... 0. 0. 0.] [1. 0.] [1.07149321 1.087236  ] c1ccc(c(c1)c2nc(n(n2)c3ccc(cc3)C(=O)[O-])c4ccccc4O)O\n",
      "[0. 1. 0. ... 0. 0. 0.] [0. 1.] [14.98734177 12.46315789] C1=CC=C(C(=C1)C(=O)NCCC[C@@H](C(=O)O)NC(=O)C2=CC=C(C=C2)NCC3=CN=C4C(=N3)C(=NC(=N4)N)N)C(=O)O\n",
      "[0. 0. 0. ... 0. 0. 0.] [1. 0.] [1.07149321 1.087236  ] c1cc2c3c(c1)C(=O)N(C[C@H]3CCC2)[C@@H]4C[NH+]5CCC4CC5\n",
      "[0. 1. 0. ... 0. 0. 0.] [1. 0.] [1.07149321 1.087236  ] c1cc2c(csc2c(c1)Cl)COC(Cn3ccnc3)c4ccc(cc4Cl)Cl\n",
      "[0. 0. 1. ... 0. 0. 0.] [1. 0.] [1.07149321 1.087236  ] c1cc2c(cc1OCCCCc3nnnn3C4CCCCC4)CCC(=O)N2\n",
      "[0. 1. 0. ... 0. 0. 0.] [1. 0.] [1.07149321 1.087236  ] c1cc2c(cc1F)CCC(O2)C(C[NH2+]CC(C3CCc4cc(ccc4O3)F)O)O\n",
      "[0. 0. 0. ... 0. 0. 0.] [1. 0.] [1.07149321 1.087236  ] c1cc2c(cc1Cl)[nH]c(=O)o2\n",
      "[0. 0. 0. ... 0. 0. 0.] [1. 0.] [1.07149321 1.087236  ] c1cc2c(cc1Cl)[C@@](OC(=O)N2)(C#CC3CC3)C(F)(F)F\n",
      "[0. 0. 0. ... 0. 0. 0.] [1. 0.] [1.07149321 1.087236  ] c1cc2c(cc1C#N)c(c[nH]2)CCCC[NH+]3CCN(CC3)c4ccc5c(c4)cc(o5)C(=O)N\n",
      "[0. 1. 0. ... 0. 0. 0.] [1. 0.] [1.07149321 1.087236  ] c1cc2c(cc1)C(=O)C(=C(C2=O)[C@H]3CC[C@@H](CC3)c4ccc(cc4)Cl)[O-]\n",
      "[0. 1. 0. ... 0. 0. 0.] [1. 0.] [1.07149321 1.087236  ] c1cc2c(cc(nc2c(c1)C(F)(F)F)C(F)(F)F)C(C3CCCC[NH2+]3)O\n",
      "[0. 1. 0. ... 0. 0. 0.] [1. 0.] [1.07149321 1.087236  ] c1cc2c(c(c1)OCC(COc3cccc4c3c(=O)cc(o4)C(=O)[O-])O)c(=O)cc(o2)C(=O)[O-]\n",
      "[0. 0. 0. ... 0. 0. 0.] [1. 0.] [1.07149321 1.087236  ] C1CC2(C1)C(=O)O[Pt]OC2=O\n",
      "[0. 0. 0. ... 0. 0. 0.] [1. 0.] [1.07149321 1.087236  ] c1cc(oc1/C=N/N2CCOC2=O)[N+](=O)[O-]\n",
      "[0. 0. 0. ... 0. 0. 0.] [1. 0.] [1.07149321 1.087236  ] c1cc(oc1/C=N/N2CC(=O)NC2=O)[N+](=O)[O-]\n",
      "[0. 0. 0. ... 0. 0. 0.] [1. 0.] [1.07149321 1.087236  ] c1cc(oc1)CNc2cc(c(cc2C(=O)[O-])S(=O)(=O)N)Cl\n",
      "[0. 0. 0. ... 0. 0. 0.] [0. 1.] [14.98734177 12.46315789] C1CC(=O)NC2=C1C=CC(=C2)OCCCCN3CCN(CC3)C4=C(C(=CC=C4)Cl)Cl\n",
      "[0. 0. 0. ... 0. 0. 0.] [1. 0.] [1.07149321 1.087236  ] c1cc(ccc1NC(=[NH2+])NC(=[NH2+])NCCCCCCNC(=[NH2+])NC(=[NH2+])Nc2ccc(cc2)Cl)Cl\n",
      "[0. 0. 0. ... 0. 0. 0.] [1. 0.] [1.07149321 1.087236  ] c1cc(ccc1N2CCOCC2=O)N3C[C@@H](OC3=O)CNC(=O)c4ccc(s4)Cl\n",
      "[0. 1. 0. ... 0. 0. 0.] [1. 0.] [1.07149321 1.087236  ] c1cc(ccc1CSC(Cn2ccnc2)c3ccc(cc3Cl)Cl)Cl\n",
      "[0. 0. 0. ... 0. 0. 0.] [1. 0.] [1.07149321 1.087236  ] c1cc(ccc1C[NH+]2CCCNCC[NH2+]CCCNCC2)C[NH+]3CCCNCC[NH2+]CCCNCC3\n",
      "[0. 0. 0. ... 0. 0. 0.] [1. 0.] [1.07149321 1.087236  ] c1cc(ccc1c2ccc(o2)/C=N/N3CC(=O)NC3=O)[N+](=O)[O-]\n",
      "[0. 0. 0. ... 0. 0. 0.] [1. 0.] [1.07149321 1.087236  ] c1cc(ccc1C2C[NH2+]CCc3c2cc(c(c3Cl)O)O)O\n",
      "[0. 0. 1. ... 0. 0. 0.] [1. 0.] [1.07149321 1.087236  ] c1cc(ccc1c2c(c3ccc(cc3s2)O)C(=O)c4ccc(cc4)OCC[NH+]5CCCCC5)O\n",
      "[0. 0. 0. ... 0. 0. 0.] [1. 0.] [1.07149321 1.087236  ] c1cc(ccc1C(=O)NCCC(=O)[O-])N/N=C\\2/C=CC(=O)C(=C2)C(=O)[O-]\n",
      "[0. 1. 0. ... 0. 0. 0.] [1. 0.] [1.07149321 1.087236  ] c1cc(ccc1C(=O)N[C@@H](CCC(=O)[O-])C(=O)[O-])NCc2cnc3c(n2)c(=O)nc([nH]3)N\n",
      "[0. 0. 0. ... 0. 0. 0.] [1. 0.] [1.07149321 1.087236  ] c1cc(ccc1C(=O)CCC[NH+]2CCC(CC2)(c3ccc(cc3)Cl)O)F\n",
      "[0. 1. 0. ... 0. 0. 0.] [1. 1.] [ 1.07149321 12.46315789] C1=CC(=CC=C1C#N)C(C2=CC=C(C=C2)C#N)N3C=NC=N3\n",
      "[0. 0. 0. ... 0. 0. 0.] [1. 0.] [1.07149321 1.087236  ] c1cc(ccc1[C@@H]2CC[NH2+]C[C@H]2COc3ccc4c(c3)OCO4)F\n",
      "[0. 1. 0. ... 0. 0. 0.] [1. 0.] [1.07149321 1.087236  ] c1cc(ccc1[C@@H]2[C@H](C(=O)N2c3ccc(cc3)F)CC[C@@H](c4ccc(cc4)F)O)O\n",
      "[0. 0. 0. ... 0. 0. 0.] [1. 0.] [1.07149321 1.087236  ] c1cc(c2c3c1C[C@@H]4[C@]5([C@]3(CC[NH+]4CC6CCC6)[C@@H](O2)[C@H](CC5)O)O)O\n",
      "[0. 0. 0. ... 0. 0. 0.] [0. 1.] [14.98734177 12.46315789] C1CC(C1)(C(=O)O)C(=O)O.N.N.[Pt]\n",
      "[0. 0. 0. ... 0. 0. 0.] [1. 0.] [1.07149321 1.087236  ] c1cc(c(cc1OCC(F)(F)F)C(=O)NCC2CCCC[NH2+]2)OCC(F)(F)F\n",
      "[1. 0. 0. ... 0. 0. 0.] [1. 0.] [1.07149321 1.087236  ] c1cc(c(cc1F)F)C(Cn2cncn2)(Cn3cncn3)O\n",
      "[0. 0. 0. ... 0. 0. 0.] [1. 0.] [1.07149321 1.087236  ] c1cc(c(cc1Cl)Cl)CO/N=C(/Cn2ccnc2)\\c3ccc(cc3Cl)Cl\n",
      "[0. 0. 0. ... 0. 0. 0.] [0. 1.] [14.98734177 12.46315789] C1=CC(=C(C=C1Cl)Cl)C(=O)NS(=O)(=O)C2=CC=C(S2)Br\n",
      "[0. 1. 0. ... 0. 0. 0.] [1. 0.] [1.07149321 1.087236  ] c1cc(c(cc1Cl)Cl)C(Cn2ccnc2)OCc3ccsc3Cl\n",
      "[0. 1. 0. ... 0. 0. 0.] [1. 0.] [1.07149321 1.087236  ] c1cc(c(cc1C(=O)Nc2c(cncc2Cl)Cl)OCC3CC3)OC(F)F\n",
      "[0. 0. 0. ... 0. 0. 0.] [1. 0.] [1.07149321 1.087236  ] c1cc(c(cc1C(F)(F)F)[N+](=O)[O-])C(=O)[C-]2C(=O)CCCC2=O\n",
      "[0. 0. 0. ... 0. 0. 0.] [1. 0.] [1.07149321 1.087236  ] c1cc(c(cc1[N+](=O)[O-])Cl)NC(=O)c2cc(ccc2O)Cl\n",
      "[0. 0. 0. ... 0. 0. 0.] [1. 0.] [1.07149321 1.087236  ] c1cc(c(cc1/N=N/c2ccc(c(c2)C(=O)[O-])O)C(=O)[O-])O\n",
      "[0. 0. 0. ... 0. 0. 0.] [1. 0.] [1.07149321 1.087236  ] c1cc(c(c2c1nsn2)NC3=[NH+]CCN3)Cl\n",
      "[0. 0. 0. ... 0. 0. 0.] [1. 0.] [1.07149321 1.087236  ] c1cc(c(c2c1nccn2)Br)NC3=[NH+]CCN3\n",
      "[0. 0. 0. ... 0. 0. 0.] [1. 0.] [1.07149321 1.087236  ] c1cc(c(c2c1[NH+]=C3NC(=O)CN3C2)Cl)Cl\n",
      "[0. 0. 0. ... 0. 0. 0.] [1. 0.] [1.07149321 1.087236  ] c1cc(c(c(c1)F)Cn2cc(nn2)C(=O)N)F\n",
      "[0. 1. 0. ... 0. 0. 0.] [1. 0.] [1.07149321 1.087236  ] c1cc(c(c(c1)Cl)SC(CCc2ccc(cc2)Cl)Cn3ccnc3)Cl\n",
      "[0. 0. 0. ... 0. 0. 0.] [1. 0.] [1.07149321 1.087236  ] c1cc(c(c(c1)Cl)Cl)N2CC[NH+](CC2)CCCCOc3ccc4c(c3)NC(=O)CC4\n",
      "[0. 0. 0. ... 0. 0. 0.] [1. 0.] [1.07149321 1.087236  ] c1cc(c(c(c1)Cl)Cl)c2c(nc(nn2)N)N\n",
      "[0. 0. 0. ... 0. 0. 0.] [1. 0.] [1.07149321 1.087236  ] c1c2=N/C(=C/3\\C=CON3)/N=c2c4c(n1)CCOC4\n",
      "[0. 0. 0. ... 0. 0. 0.] [1. 0.] [1.07149321 1.087236  ] c1c2c(cc(c1Cl)S(=O)(=O)N)S(=O)(=O)NC(N2)C3CC4CC3C=C4\n",
      "[1. 0. 0. ... 0. 0. 0.] [1. 0.] [1.07149321 1.087236  ] c1c2c(c(c(c1F)N3CCCC[C@H](C3)[NH3+])Cl)n(cc(c2=O)C(=O)[O-])C4CC4\n",
      "[0. 0. 0. ... 0. 0. 0.] [1. 0.] [1.07149321 1.087236  ] c1c2c([nH]n1)ncnc2O\n",
      "[0. 0. 0. ... 0. 0. 0.] [1. 0.] [1.07149321 1.087236  ] c1c(nc(s1)N)/C(=C/CC(=O)[O-])/C(=O)N[C@H]2[C@@H]3N(C2=O)C(=CCS3)C(=O)[O-]\n",
      "[0. 0. 0. ... 0. 0. 0.] [1. 0.] [1.07149321 1.087236  ] c1c(cc(c(c1O)O)O)C(=O)Oc2cc(cc(c2O)O)C(=O)OC[C@@H]3[C@H]([C@@H]([C@H]([C@@H](O3)OC(=O)c4cc(c(c(c4)OC(=O)c5cc(c(c(c5)O)O)O)O)O)OC(=O)c6cc(c(c(c6)OC(=O)c7cc(c(c(c7)O)O)O)O)O)OC(=O)c8cc(c(c(c8)OC(=O)c9cc(c(c(c9)O)O)O)O)O)OC(=O)c1cc(c(c(c1)OC(=O)c1cc(c(c(c1)O)O)O)O)O\n",
      "[0. 1. 0. ... 0. 0. 0.] [1. 0.] [1.07149321 1.087236  ] c1c(c(cc(c1F)F)F)C[C@H](CC(=O)N2CCn3c(nnc3C(F)(F)F)C2)[NH3+]\n",
      "[0. 0. 0. ... 0. 0. 0.] [1. 0.] [1.07149321 1.087236  ] c1c(c(c(c(c1I)NC(=O)CCOCCOCCOCCOCCC(=O)Nc2c(cc(c(c2I)C(=O)[O-])I)I)I)C(=O)[O-])I\n",
      "[0. 0. 0. ... 0. 0. 0.] [1. 0.] [1.07149321 1.087236  ] c1c(c(c(c(c1I)NC(=O)CCCCC(=O)Nc2c(cc(c(c2I)C(=O)[O-])I)I)I)C(=O)[O-])I\n",
      "[0. 1. 0. ... 0. 0. 0.] [1. 0.] [1.07149321 1.087236  ] c1c([nH]cn1)C[C@@H](C(=O)N2CCC[C@H]2C(=O)N)NC(=O)[C@@H]3CCC(=O)N3\n",
      "[0. 0. 1. ... 0. 0. 0.] [1. 0.] [1.07149321 1.087236  ] c1c([n+](c(nc1N2CCCCC2)N)[O-])N\n",
      "[0. 0. 0. ... 0. 0. 0.] [1. 0.] [1.07149321 1.087236  ] c1[nH]c(=O)c2c(n1)n(cn2)[C@H]3CC[C@H](O3)CO\n",
      "[0. 0. 0. ... 0. 0. 0.] [1. 0.] [1.07149321 1.087236  ] C1[C@H]2[C@@H]([C@@H](S1)CCCCC(=O)[O-])NC(=O)N2\n",
      "[0. 0. 0. ... 0. 0. 0.] [1. 0.] [1.07149321 1.087236  ] C1[C@H](C(=O)NO1)[NH3+]\n",
      "[0. 0. 0. ... 0. 0. 0.] [1. 0.] [1.07149321 1.087236  ] C1[C@H]([C@@H]([C@H]([C@@H](O1)O[C@@H]2CO[C@H]([C@@H]([C@H]2OS(=O)(=O)[O-])OS(=O)(=O)[O-])O)OS(=O)(=O)[O-])OS(=O)(=O)[O-])O\n",
      "[0. 0. 0. ... 0. 0. 0.] [1. 0.] [1.07149321 1.087236  ] C1[C@@H]2N(C1=O)[C@H](/C(=C/CO)/O2)C(=O)[O-]\n",
      "[0. 1. 0. ... 0. 0. 0.] [1. 0.] [1.07149321 1.087236  ] C1[C@@H]2C[C@@H]2N([C@@H]1C#N)C(=O)[C@H](C34CC5CC(C3)CC(C5)(C4)O)[NH3+]\n",
      "[0. 1. 0. ... 0. 0. 0.] [1. 0.] [1.07149321 1.087236  ] C/C=C\\1/C(=O)N[C@H](C(=O)O[C@H]\\2CC(=O)N[C@@H](C(=O)N[C@H](CSSCC/C=C2)C(=O)N1)C(C)C)C(C)C\n",
      "[0. 0. 0. ... 0. 0. 0.] [1. 0.] [1.07149321 1.087236  ] C/C=C(/C(=C/C)/c1ccc(cc1)O)\\c2ccc(cc2)O\n",
      "[0. 0. 0. ... 0. 0. 0.] [1. 0.] [1.07149321 1.087236  ] C/[NH+]=C\\1/CN(C(=c2cc(ccc2=N1)Cl)c3ccccc3)[O-]\n",
      "[0. 0. 0. ... 0. 0. 0.] [1. 0.] [1.07149321 1.087236  ] C([C@@H]1[C@H]([C@@H]([C@H](C(=O)O1)O)O)O)O\n",
      "[0. 0. 0. ... 0. 0. 0.] [1. 0.] [1.07149321 1.087236  ] C([C@@H]1[C@@H]([C@@H]([C@H]([C@@H](O1)O[C@@H]2[C@H](O[C@@]([C@H]2O)(CO)O)CO)O)O)O)O\n",
      "[0. 1. 0. ... 0. 0. 0.] [1. 0.] [1.07149321 1.087236  ] C([C@@H]([C@@H]1C(=C(C(=O)O1)O)[O-])O)O\n",
      "[0. 1. 0. ... 0. 0. 0.] [1. 0.] [1.07149321 1.087236  ] C#CCC(Cc1cnc2c(n1)c(nc(n2)N)N)c3ccc(cc3)C(=O)N[C@@H](CCC(=O)[O-])C(=O)[O-]\n",
      "[0. 0. 0. ... 0. 0. 0.] [1. 0.] [1.07149321 1.087236  ] C#CC[NH2+][C@@H]1CCc2c1cccc2\n",
      "[0. 0. 0. ... 0. 0. 0.] [1. 0.] [1.07149321 1.087236  ] [H]/[NH+]=C(\\N)/c1ccc(cc1)OCCCCCOc2ccc(cc2)/C(=[NH+]/[H])/N\n",
      "[0. 0. 0. ... 0. 0. 0.] [1. 0.] [1.07149321 1.087236  ] [H]/[NH+]=C(/C1=CC(=O)/C(=C\\C=c2ccc(=C([NH3+])N)cc2)/C=C1)\\N\n"
     ]
    }
   ],
   "source": [
    "for X, y, w, id in test_dataset.itersamples():\n",
    "    print(X, y, w, id)"
   ]
  },
  {
   "cell_type": "code",
   "execution_count": 29,
   "metadata": {},
   "outputs": [
    {
     "name": "stdout",
     "output_type": "stream",
     "text": [
      "1089\n"
     ]
    }
   ],
   "source": [
    "cnt = 0\n",
    "for X, y, w, id in train_dataset.itersamples():\n",
    "    if y[1] == 1.:\n",
    "        cnt += 1\n",
    "print(cnt)"
   ]
  },
  {
   "cell_type": "code",
   "execution_count": null,
   "metadata": {},
   "outputs": [],
   "source": []
  }
 ],
 "metadata": {
  "kernelspec": {
   "display_name": "LZZ",
   "language": "python",
   "name": "python3"
  },
  "language_info": {
   "codemirror_mode": {
    "name": "ipython",
    "version": 3
   },
   "file_extension": ".py",
   "mimetype": "text/x-python",
   "name": "python",
   "nbconvert_exporter": "python",
   "pygments_lexer": "ipython3",
   "version": "3.8.18"
  }
 },
 "nbformat": 4,
 "nbformat_minor": 2
}
