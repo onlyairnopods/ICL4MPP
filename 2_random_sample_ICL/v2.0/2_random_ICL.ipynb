{
 "cells": [
  {
   "cell_type": "code",
   "execution_count": 1,
   "metadata": {},
   "outputs": [
    {
     "name": "stderr",
     "output_type": "stream",
     "text": [
      "Exception ignored in: <bound method IPythonKernel._clean_thread_parent_frames of <ipykernel.ipkernel.IPythonKernel object at 0x76254075be20>>\n",
      "Traceback (most recent call last):\n",
      "  File \"/home/fangmiaoNLP/.conda/envs/LZZ/lib/python3.8/site-packages/ipykernel/ipkernel.py\", line 775, in _clean_thread_parent_frames\n",
      "    def _clean_thread_parent_frames(\n",
      "KeyboardInterrupt: \n",
      "No normalization for SPS. Feature removed!\n",
      "No normalization for AvgIpc. Feature removed!\n",
      "2024-08-04 11:03:51.956984: I tensorflow/core/platform/cpu_feature_guard.cc:182] This TensorFlow binary is optimized to use available CPU instructions in performance-critical operations.\n",
      "To enable the following instructions: AVX2 FMA, in other operations, rebuild TensorFlow with the appropriate compiler flags.\n",
      "2024-08-04 11:03:52.750344: W tensorflow/compiler/tf2tensorrt/utils/py_utils.cc:38] TF-TRT Warning: Could not find TensorRT\n",
      "Skipped loading modules with pytorch-geometric dependency, missing a dependency. No module named 'torch_geometric'\n",
      "Skipped loading modules with pytorch-geometric dependency, missing a dependency. cannot import name 'DMPNN' from 'deepchem.models.torch_models' (/home/fangmiaoNLP/.conda/envs/LZZ/lib/python3.8/site-packages/deepchem/models/torch_models/__init__.py)\n",
      "Skipped loading modules with pytorch-lightning dependency, missing a dependency. No module named 'lightning'\n",
      "Skipped loading some Jax models, missing a dependency. No module named 'jax'\n"
     ]
    }
   ],
   "source": [
    "import deepchem\n",
    "import deepchem.molnet\n",
    "import os\n",
    "os.environ['HF_ENDPOINT'] = 'https://hf-mirror.com'\n",
    "import warnings\n",
    "warnings.filterwarnings(\"ignore\")\n",
    "\n",
    "from tqdm import tqdm\n",
    "from typing import Literal, Callable, Any, Tuple, List\n",
    "import random\n",
    "import numpy as np\n",
    "import datetime\n",
    "from rdkit import Chem, rdBase\n",
    "from rdkit.Chem.Fingerprints import FingerprintMols\n",
    "from rdkit.Chem import AllChem, MACCSkeys\n",
    "from rdkit import DataStructs\n",
    "from sklearn.metrics import roc_auc_score\n",
    "import torch\n",
    "from transformers import AutoModelForCausalLM, AutoTokenizer, GenerationConfig, LlamaTokenizer, LlamaForCausalLM\n",
    "import argparse\n",
    "\n",
    "rdBase.DisableLog('rdApp.warning')\n",
    "\n",
    "def set_seed(seed):\n",
    "    torch.manual_seed(seed)  # 设置CPU的随机种子\n",
    "    torch.cuda.manual_seed(seed)  # 设置当前GPU的随机种子\n",
    "    torch.cuda.manual_seed_all(seed)  # 设置所有GPU的随机种子\n",
    "    np.random.seed(seed)  # 设置numpy的随机种子\n",
    "    random.seed(seed)  # 设置Python的随机种子\n",
    "    torch.backends.cudnn.deterministic = True  # 确保cudnn的确定性\n",
    "    torch.backends.cudnn.benchmark = False  # 确保cudnn的确定性\n",
    "\n",
    "set_seed(1111)\n",
    "\n",
    "tasks, datasets, transformers = deepchem.molnet.load_clintox(splitter='scaffold', reload=True,\n",
    "                                                             data_dir='./data/clintox_data',\n",
    "                                                             save_dir='./data/clintox_datasets')\n",
    "\n",
    "train_dataset, valid_dataset, test_dataset = datasets\n",
    "\n",
    "batch_size = 1\n",
    "total_batches = len(test_dataset) // batch_size\n",
    "\n",
    "class Model:\n",
    "    def __init__(self, model_name_or_id: Literal[\"AI4Chem/ChemLLM-20B-Chat-SFT\", \"AI4Chem/ChemLLM-20B-Chat-DPO\", \"X-LANCE/ChemDFM-13B-v1.0\"], **kwargs):\n",
    "        assert model_name_or_id in [\"AI4Chem/ChemLLM-20B-Chat-SFT\", \"AI4Chem/ChemLLM-20B-Chat-DPO\", \"X-LANCE/ChemDFM-13B-v1.0\"], \\\n",
    "            \"model must be one of 'AI4Chem/ChemLLM-20B-Chat-SFT', 'AI4Chem/ChemLLM-20B-Chat-DPO', 'X-LANCE/ChemDFM-13B-v1.0'\"\n",
    "        self.model_name_or_id = model_name_or_id\n",
    "\n",
    "        self.yes_token_ids = [\n",
    "            [7560,], # 7560为ChemLLM词表中Yes对应的id\n",
    "            [3869,], # 3869为ChemDFM词表中Yes对应的id\n",
    "            ]\n",
    "        self.no_token_ids = [\n",
    "            [2458, 2783],  # 2458为ChemLLM词表中No对应的id, 2783-Not\n",
    "            [1939,],  # 1939为ChemDFM词表中No对应的id\n",
    "            ]\n",
    "        \n",
    "        if \"AI4Chem\" in model_name_or_id:\n",
    "            self.model = AutoModelForCausalLM.from_pretrained(model_name_or_id, torch_dtype=torch.float16, trust_remote_code=True, device_map='auto')\n",
    "            self.tokenizer = AutoTokenizer.from_pretrained(model_name_or_id, trust_remote_code=True)\n",
    "            self.yes_token_id = self.yes_token_ids[0]\n",
    "            self.no_token_id = self.no_token_ids[0]\n",
    "\n",
    "        else: # ChemDFM        \n",
    "            self.model = LlamaForCausalLM.from_pretrained(model_name_or_id, torch_dtype=torch.float16, device_map='auto')\n",
    "            self.tokenizer = LlamaTokenizer.from_pretrained(model_name_or_id)\n",
    "            self.yes_token_id = self.yes_token_ids[1]\n",
    "            self.no_token_id = self.no_token_ids[1]\n",
    "\n",
    "        self.generation_config = GenerationConfig(\n",
    "            do_sample=True,\n",
    "            top_k=1,\n",
    "            **kwargs,\n",
    "            repetition_penalty=1.5,\n",
    "            pad_token_id=self.tokenizer.eos_token_id,\n",
    "            output_scores=True,\n",
    "            return_dict_in_generate=True\n",
    "        )\n",
    "\n",
    "    def __call__(self, prompt: str, debug_mode: bool = False):\n",
    "        torch.cuda.empty_cache()\n",
    "        inputs = self.tokenizer(prompt, return_tensors=\"pt\").to(\"cuda\")\n",
    "\n",
    "        input_ids = inputs['input_ids']\n",
    "        outputs = self.model.generate(**inputs, generation_config=self.generation_config)\n",
    "        logits = outputs.scores\n",
    "        generated_ids = outputs.sequences\n",
    "        probs = [torch.softmax(log, dim=-1) for log in logits]\n",
    "\n",
    "        output_token_ids = generated_ids[0][ len(input_ids[0]): ]\n",
    "        response = self.tokenizer.decode(output_token_ids, skip_special_tokens=True)\n",
    "        \n",
    "        if debug_mode:\n",
    "            for i, token_id in enumerate(output_token_ids):\n",
    "                token_prob = probs[i][0, token_id].item()\n",
    "                print(f\"Token ID: {token_id}, Probability: {token_prob}\")\n",
    "\n",
    "        total_yesp, total_nop = 0., 0.\n",
    "        for x in self.yes_token_id:\n",
    "            total_yesp += probs[0][0, x].item()\n",
    "        for y in self.no_token_id:\n",
    "            total_nop += probs[0][0, y].item()\n",
    "        \n",
    "        sump = (total_yesp + total_nop) + 1e-14\n",
    "        y_score = total_yesp / sump\n",
    "\n",
    "\n",
    "        inputs, input_ids, outputs, logits, generated_ids, probs, output_token_ids = None, None, None, None, None, None, None\n",
    "        del inputs\n",
    "        del input_ids\n",
    "        del outputs\n",
    "        del logits\n",
    "        del generated_ids\n",
    "        del probs\n",
    "        del output_token_ids\n",
    "        torch.cuda.empty_cache()\n",
    "\n",
    "        return [response], [y_score]\n",
    "\n",
    "def smiles2maccs_fp(smiles: str):\n",
    "    return MACCSkeys.GenMACCSKeys(Chem.MolFromSmiles(smiles))\n",
    "\n",
    "def smiles2rdk_fp(smiles: str):\n",
    "    return Chem.RDKFingerprint(Chem.MolFromSmiles(smiles))\n",
    "\n",
    "def smiles2morgan_fp(smiles: str):\n",
    "    return AllChem.GetMorganFingerprint(Chem.MolFromSmiles(smiles), 2)\n",
    "\n",
    "def calc_tanimoto_similarity(fp1, fp2) -> float:\n",
    "    return DataStructs.TanimotoSimilarity(fp1, fp2)\n",
    "\n",
    "def calc_cosine_similarity(fp1, fp2) -> float:\n",
    "    return DataStructs.CosineSimilarity(fp1, fp2)\n",
    "\n",
    "def calc_dice_similarity(fp1, fp2) -> float:\n",
    "    return DataStructs.DiceSimilarity(fp1, fp2)\n",
    "\n",
    "class BasePrompter(object):\n",
    "    def __init__(self, system_instruction: str = \"\", template: str = \"\", verbose: bool = False):\n",
    "        self.system_instruction = system_instruction\n",
    "        self.template = template\n",
    "        self.verbose = verbose\n",
    "\n",
    "    def generate_prompt(self, query_smiles):\n",
    "        raise NotImplementedError\n",
    "    \n",
    "    def canonicalize_smiles(self, smiles):\n",
    "        mol = Chem.MolFromSmiles(smiles)\n",
    "        if mol is None:\n",
    "            return None\n",
    "        return Chem.MolToSmiles(mol, isomericSmiles=True, kekuleSmiles=False)\n",
    "    \n",
    "class ZeroShotPrompter(BasePrompter):\n",
    "    def __init__(self, system_instruction: str = \"\", template: str = \"\", verbose: bool = False):\n",
    "        super().__init__(system_instruction, template, verbose)\n",
    "\n",
    "    @staticmethod\n",
    "    def generate_prompt(self, query_smiles):\n",
    "        query_smiles = self.canonicalize_smiles(query_smiles)\n",
    "\n",
    "        prompt = f\"{self.template}\\nSMILES:{query_smiles}\\nAnswer:\"\n",
    "\n",
    "        if self.verbose:\n",
    "            print(prompt)\n",
    "\n",
    "        return prompt\n",
    "\n",
    "class FewShotPrompter(BasePrompter):\n",
    "    def __init__(self, system_instruction: str = \"\", template: str = \"\", verbose: bool = False, *, \n",
    "                 sample_dataset, sample_molecule_format: Literal['smiles', 'maccs_fp', 'rdk_fp', 'morgan_fp'], \n",
    "                 sample_mode: Literal['random', 'cosine_similarity', 'tanimoto_similarity', 'dice_similarity'], sample_num: int):\n",
    "        super(FewShotPrompter, self).__init__(system_instruction, template, verbose)\n",
    "        \n",
    "        assert sample_mode in ['random', 'cosine_similarity', 'tanimoto_similarity', 'dice_similarity'], \"mode must be either 'random' or 'cosine_similarity' or 'tanimoto_similarity', 'dice_similarity'\\n\"\n",
    "        self.sample_mode = sample_mode\n",
    "        assert sample_molecule_format in ['smiles', 'maccs_fp', 'rdk_fp', 'morgan_fp'], \"mode must be either 'smiles' or 'maccs_fp' or 'rdk_fp' or 'morgan_fp'\\n\"\n",
    "        self.sample_molecule_format = sample_molecule_format\n",
    "        self.sample_num = sample_num\n",
    "        self.sample_dataset = self.convert_molecule_format(sample_dataset)\n",
    "\n",
    "    def convert_molecule_format(self, sample_dataset):\n",
    "        sample_dataset = sample_dataset.to_dataframe()\n",
    "        if self.sample_molecule_format == 'smiles':\n",
    "            return sample_dataset\n",
    "        else:\n",
    "            sample_dataset[self.sample_molecule_format] = sample_dataset['ids'].apply(lambda x: eval(f'smiles2{self.sample_molecule_format}')(x))\n",
    "            return sample_dataset\n",
    "            \n",
    "    def get_demonstrations(self, query_smiles: str) -> List:\n",
    "        if self.sample_mode == 'random':\n",
    "            return self.random_sample_examples(query_smiles)\n",
    "        else:\n",
    "            return self.similar_sample_examples(query_smiles, self.sample_num)\n",
    "\n",
    "    def random_sample_examples(self, query_smiles: str) -> List[Tuple[str, str]]:\n",
    "        # y2 = CT_TOX\n",
    "        positive_examples = self.sample_dataset[self.sample_dataset[\"y2\"] == 1].sample(int(self.sample_num/2))\n",
    "        negative_examples = self.sample_dataset[self.sample_dataset[\"y2\"] == 0].sample(int(self.sample_num/2))\n",
    "\n",
    "        smiles = positive_examples[\"ids\"].tolist() + negative_examples[\"ids\"].tolist()\n",
    "        smiles = [self.canonicalize_smiles(i) for i in smiles]\n",
    "        class_label = positive_examples[\"y2\"].tolist() + negative_examples[\"y2\"].tolist()\n",
    "        #convert 1 to \"Yes\" and 0 to \"No\"\" in class_label\n",
    "        class_label = [\"Yes\" if i == 1 else \"No\" for i in class_label]\n",
    "        sample_examples = list(zip(smiles, class_label))\n",
    "        return sample_examples\n",
    "\n",
    "    def similar_sample_examples(self, query_smiles: str, top_k: int) -> List[Tuple[str, str]]:\n",
    "        query_smiles = eval(f'smiles2{self.sample_molecule_format}')(query_smiles)\n",
    "        similarities = []\n",
    "        for k in self.sample_dataset[self.sample_molecule_format].tolist():\n",
    "            similarities.append(eval(f'calc_{self.sample_mode}')(query_smiles, k))\n",
    "        sample_idx = np.argsort(-np.array(similarities))[:top_k]\n",
    "\n",
    "        smiles = []\n",
    "        class_label = []\n",
    "        for i in sample_idx:\n",
    "            smiles.append(self.canonicalize_smiles(self.sample_dataset.iloc[i]['ids']))\n",
    "            class_label.append(self.sample_dataset.iloc[i]['y2'])\n",
    "        class_label = [\"Yes\" if i == 1 else \"No\" for i in class_label]\n",
    "        sample_examples = list(zip(smiles, class_label))\n",
    "        return sample_examples\n",
    "\n",
    "\n",
    "    def generate_prompt(self, query_smiles: str) -> str:\n",
    "        query_smiles = self.canonicalize_smiles(query_smiles)\n",
    "\n",
    "        few_shot = \"\"\n",
    "        demonstrations = self.get_demonstrations(query_smiles)\n",
    "        for example in demonstrations:\n",
    "            few_shot += f\"SMILES:{example[0]}\\nAnswer:{example[-1]}\\n\"\n",
    "\n",
    "        prompt = f\"{self.template}\\n{few_shot}SMILES:{query_smiles}\\nAnswer:\"\n",
    "\n",
    "        if self.verbose:\n",
    "            print(prompt)\n",
    "            \n",
    "        return prompt\n",
    "    \n",
    "class FewShotPrompter1(FewShotPrompter):\n",
    "    def generate_prompt(self, query_smiles):\n",
    "        query_smiles = self.canonicalize_smiles(query_smiles)\n",
    "\n",
    "        few_shot = \"\"\n",
    "        demonstrations = self.get_demonstrations(query_smiles)\n",
    "        for example in demonstrations:\n",
    "            few_shot += f\"SMILES:{example[0]}\\nAnswer:{example[-1]}\\n\"\n",
    "\n",
    "        prompt = f\"{self.template}\\n{few_shot}Is this molecule Clinically-trail-Toxic (Yes) or Not Clinically-trail-toxic (No)?\\nSMILES:{query_smiles}\\nAnswer:\"\n",
    "\n",
    "        if self.verbose:\n",
    "            print(prompt)\n",
    "            \n",
    "        return prompt\n",
    "\n",
    "def main(dataset: Any, \n",
    "         batch_size: int, \n",
    "         total_batches: int, \n",
    "         model: Callable[[str, bool], Tuple],\n",
    "         prompt_generator: Callable[[str], str],\n",
    "         ):\n",
    "    y_trues = []\n",
    "    y_scores = []\n",
    "    responses = []\n",
    "    cnt = 0\n",
    "    \n",
    "    for X, Y, W, ids in tqdm(dataset.iterbatches(batch_size=batch_size), total=total_batches):\n",
    "        input_X = [prompt_generator(id) for id in ids]\n",
    "        \n",
    "        y_trues.extend(Y[:, -1])\n",
    "\n",
    "        bs_responses, bs_y_scores = model(input_X)\n",
    "        \n",
    "        print(bs_responses, bs_y_scores)\n",
    "\n",
    "        responses.extend(bs_responses)\n",
    "        y_scores.extend(bs_y_scores)\n",
    "\n",
    "        cnt += 1\n",
    "\n",
    "        # if cnt > 3:\n",
    "        #     break\n",
    "\n",
    "    print(responses)\n",
    "    print(y_trues)\n",
    "    print(y_scores)\n",
    "    print(cnt)\n",
    "\n",
    "    roc = roc_auc_score(y_trues, y_scores)\n",
    "    print(roc)"
   ]
  },
  {
   "cell_type": "code",
   "execution_count": null,
   "metadata": {},
   "outputs": [],
   "source": [
    "zero_shot_prompt = \\\n",
    "    \"You are an expert chemist, your task is to predict the property of molecule using your experienced chemical property prediction knowledge.\\nPlease strictly follow the format, no other information can be provided. Given the SMILES string of a molecule, the task focuses on predicting molecular properties, specifically wether a molecule is Clinically-trail-Toxic(Yes) or Not Clinically-trail-toxic (No) based on the SMILES string representation of each molecule. The task is to predict the binary label for a given molecule, please answer with only 'Yes' or 'No'.\"\n",
    "\n",
    "few_shot_prompt = \\\n",
    "    \"Please strictly follow the format, no other information can be provided. Given the SMILES string of a molecule, the task focuses on predicting molecular properties, specifically wether a molecule is Clinically-trail-Toxic (Yes) or Not Clinically-trail-toxic (No). The task is to predict the binary label for a given molecule, please answer with only 'Yes' or 'No'.\"\n"
   ]
  },
  {
   "cell_type": "markdown",
   "metadata": {},
   "source": [
    "# ChemLLM"
   ]
  },
  {
   "cell_type": "markdown",
   "metadata": {},
   "source": [
    "# temperature 0.9"
   ]
  },
  {
   "cell_type": "code",
   "execution_count": null,
   "metadata": {},
   "outputs": [
    {
     "data": {
      "application/json": {
       "ascii": false,
       "bar_format": null,
       "colour": null,
       "elapsed": 0.008056879043579102,
       "initial": 0,
       "n": 0,
       "ncols": null,
       "nrows": null,
       "postfix": null,
       "prefix": "Loading checkpoint shards",
       "rate": null,
       "total": 41,
       "unit": "it",
       "unit_divisor": 1000,
       "unit_scale": false
      },
      "application/vnd.jupyter.widget-view+json": {
       "model_id": "636f78cc212043e7981059c6ba543258",
       "version_major": 2,
       "version_minor": 0
      },
      "text/plain": [
       "Loading checkpoint shards:   0%|          | 0/41 [00:00<?, ?it/s]"
      ]
     },
     "metadata": {},
     "output_type": "display_data"
    },
    {
     "name": "stderr",
     "output_type": "stream",
     "text": [
      "Special tokens have been added in the vocabulary, make sure the associated word embeddings are fine-tuned or trained.\n"
     ]
    }
   ],
   "source": [
    "model = 'AI4Chem/ChemLLM-20B-Chat-SFT'\n",
    "temperature = 0.9\n",
    "m = Model(model_name_or_id=model, temperature=temperature, max_new_tokens=10)"
   ]
  },
  {
   "cell_type": "markdown",
   "metadata": {},
   "source": [
    "### sample_mode cosine_similarity"
   ]
  },
  {
   "cell_type": "markdown",
   "metadata": {},
   "source": [
    "#### sample_molecule_format maccs_fp"
   ]
  },
  {
   "cell_type": "markdown",
   "metadata": {},
   "source": [
    "##### sample_num 2"
   ]
  },
  {
   "cell_type": "code",
   "execution_count": null,
   "metadata": {},
   "outputs": [],
   "source": [
    "# few_shot_prompter = FewShotPrompter1(template=few_shot_prompt, sample_dataset=train_dataset, \n",
    "#                                      sample_molecule_format='maccs_fp', \n",
    "#                                      sample_mode='cosine_similarity', \n",
    "#                                      sample_num=2)\n",
    "\n",
    "# main(dataset=test_dataset, batch_size=batch_size, total_batches=total_batches, model=m, prompt_generator=few_shot_prompter.generate_prompt)"
   ]
  },
  {
   "cell_type": "markdown",
   "metadata": {},
   "source": [
    "##### sample_num 4"
   ]
  },
  {
   "cell_type": "code",
   "execution_count": null,
   "metadata": {},
   "outputs": [],
   "source": [
    "# few_shot_prompter = FewShotPrompter1(template=few_shot_prompt, sample_dataset=train_dataset, \n",
    "#                                      sample_molecule_format='maccs_fp', \n",
    "#                                      sample_mode='cosine_similarity', \n",
    "#                                      sample_num=4)\n",
    "\n",
    "# main(dataset=test_dataset, batch_size=batch_size, total_batches=total_batches, model=m, prompt_generator=few_shot_prompter.generate_prompt)"
   ]
  },
  {
   "cell_type": "markdown",
   "metadata": {},
   "source": [
    "##### sample_num 8"
   ]
  },
  {
   "cell_type": "code",
   "execution_count": null,
   "metadata": {},
   "outputs": [],
   "source": [
    "# few_shot_prompter = FewShotPrompter1(template=few_shot_prompt, sample_dataset=train_dataset, \n",
    "#                                      sample_molecule_format='maccs_fp', \n",
    "#                                      sample_mode='cosine_similarity', \n",
    "#                                      sample_num=8)\n",
    "\n",
    "# main(dataset=test_dataset, batch_size=batch_size, total_batches=total_batches, model=m, prompt_generator=few_shot_prompter.generate_prompt)\n",
    "\n",
    "\"\"\"\n",
    "OOM\n",
    "\"\"\""
   ]
  },
  {
   "cell_type": "markdown",
   "metadata": {},
   "source": [
    "#### sample_molecule_format rdk_fp"
   ]
  },
  {
   "cell_type": "markdown",
   "metadata": {},
   "source": [
    "##### sample_num 2"
   ]
  },
  {
   "cell_type": "code",
   "execution_count": null,
   "metadata": {},
   "outputs": [
    {
     "name": "stderr",
     "output_type": "stream",
     "text": [
      "  0%|          | 0/148 [00:00<?, ?it/s]"
     ]
    },
    {
     "name": "stderr",
     "output_type": "stream",
     "text": [
      "  1%|          | 1/148 [00:18<45:41, 18.65s/it]"
     ]
    },
    {
     "name": "stdout",
     "output_type": "stream",
     "text": [
      "[' No'] [0.0]\n"
     ]
    },
    {
     "name": "stderr",
     "output_type": "stream",
     "text": [
      "  1%|▏         | 2/148 [00:27<31:16, 12.85s/it]"
     ]
    },
    {
     "name": "stdout",
     "output_type": "stream",
     "text": [
      "['Not clin'] [0.0]\n"
     ]
    },
    {
     "name": "stderr",
     "output_type": "stream",
     "text": [
      "  2%|▏         | 3/148 [00:35<25:42, 10.64s/it]"
     ]
    },
    {
     "name": "stdout",
     "output_type": "stream",
     "text": [
      "[' No'] [0.0]\n"
     ]
    },
    {
     "name": "stderr",
     "output_type": "stream",
     "text": [
      "  3%|▎         | 4/148 [00:53<32:35, 13.58s/it]"
     ]
    },
    {
     "name": "stdout",
     "output_type": "stream",
     "text": [
      "[' No'] [0.0]\n"
     ]
    },
    {
     "name": "stderr",
     "output_type": "stream",
     "text": [
      "  3%|▎         | 5/148 [01:03<29:31, 12.39s/it]"
     ]
    },
    {
     "name": "stdout",
     "output_type": "stream",
     "text": [
      "[' No'] [0.0]\n"
     ]
    },
    {
     "name": "stderr",
     "output_type": "stream",
     "text": [
      "  4%|▍         | 6/148 [01:12<25:59, 10.98s/it]"
     ]
    },
    {
     "name": "stdout",
     "output_type": "stream",
     "text": [
      "[' No'] [0.0]\n"
     ]
    },
    {
     "name": "stderr",
     "output_type": "stream",
     "text": [
      "  5%|▍         | 7/148 [01:22<25:12, 10.73s/it]"
     ]
    },
    {
     "name": "stdout",
     "output_type": "stream",
     "text": [
      "['Not'] [0.0]\n"
     ]
    },
    {
     "name": "stderr",
     "output_type": "stream",
     "text": [
      "  5%|▌         | 8/148 [01:38<29:09, 12.49s/it]"
     ]
    },
    {
     "name": "stdout",
     "output_type": "stream",
     "text": [
      "[' Yes'] [0.499999999999995]\n"
     ]
    },
    {
     "name": "stderr",
     "output_type": "stream",
     "text": [
      "  6%|▌         | 9/148 [01:46<25:41, 11.09s/it]"
     ]
    },
    {
     "name": "stdout",
     "output_type": "stream",
     "text": [
      "['Not'] [0.0]\n"
     ]
    },
    {
     "name": "stderr",
     "output_type": "stream",
     "text": [
      "  7%|▋         | 10/148 [02:03<29:24, 12.79s/it]"
     ]
    },
    {
     "name": "stdout",
     "output_type": "stream",
     "text": [
      "[' No'] [0.0]\n"
     ]
    },
    {
     "name": "stderr",
     "output_type": "stream",
     "text": [
      "  7%|▋         | 11/148 [02:13<27:28, 12.03s/it]"
     ]
    },
    {
     "name": "stdout",
     "output_type": "stream",
     "text": [
      "[' No'] [0.0]\n"
     ]
    },
    {
     "name": "stderr",
     "output_type": "stream",
     "text": [
      "  8%|▊         | 12/148 [02:29<30:14, 13.34s/it]"
     ]
    },
    {
     "name": "stdout",
     "output_type": "stream",
     "text": [
      "[' No'] [0.0]\n"
     ]
    },
    {
     "name": "stderr",
     "output_type": "stream",
     "text": [
      "  9%|▉         | 13/148 [02:41<28:50, 12.82s/it]"
     ]
    },
    {
     "name": "stdout",
     "output_type": "stream",
     "text": [
      "['Not Clinical trial toxic'] [0.0]\n"
     ]
    },
    {
     "name": "stderr",
     "output_type": "stream",
     "text": [
      "  9%|▉         | 14/148 [02:48<24:31, 10.98s/it]"
     ]
    },
    {
     "name": "stdout",
     "output_type": "stream",
     "text": [
      "['Not'] [0.0]\n"
     ]
    },
    {
     "name": "stderr",
     "output_type": "stream",
     "text": [
      " 10%|█         | 15/148 [02:57<23:09, 10.45s/it]"
     ]
    },
    {
     "name": "stdout",
     "output_type": "stream",
     "text": [
      "['Not Clinical trial toxic'] [0.0]\n"
     ]
    },
    {
     "name": "stderr",
     "output_type": "stream",
     "text": [
      " 11%|█         | 16/148 [03:05<21:24,  9.73s/it]"
     ]
    },
    {
     "name": "stdout",
     "output_type": "stream",
     "text": [
      "['Not'] [0.0]\n"
     ]
    },
    {
     "name": "stderr",
     "output_type": "stream",
     "text": [
      " 11%|█▏        | 17/148 [03:21<25:37, 11.74s/it]"
     ]
    },
    {
     "name": "stdout",
     "output_type": "stream",
     "text": [
      "[' Yes'] [0.99999999999999]\n"
     ]
    },
    {
     "name": "stderr",
     "output_type": "stream",
     "text": [
      " 12%|█▏        | 18/148 [03:38<28:34, 13.19s/it]"
     ]
    },
    {
     "name": "stdout",
     "output_type": "stream",
     "text": [
      "[' No'] [0.0]\n"
     ]
    },
    {
     "name": "stderr",
     "output_type": "stream",
     "text": [
      " 13%|█▎        | 19/148 [03:54<30:20, 14.11s/it]"
     ]
    },
    {
     "name": "stdout",
     "output_type": "stream",
     "text": [
      "[' No'] [0.0]\n"
     ]
    },
    {
     "name": "stderr",
     "output_type": "stream",
     "text": [
      " 14%|█▎        | 20/148 [04:04<27:39, 12.96s/it]"
     ]
    },
    {
     "name": "stdout",
     "output_type": "stream",
     "text": [
      "[' No'] [0.0]\n"
     ]
    },
    {
     "name": "stderr",
     "output_type": "stream",
     "text": [
      " 14%|█▍        | 21/148 [04:13<24:29, 11.57s/it]"
     ]
    },
    {
     "name": "stdout",
     "output_type": "stream",
     "text": [
      "[' No'] [0.0]\n"
     ]
    },
    {
     "name": "stderr",
     "output_type": "stream",
     "text": [
      " 15%|█▍        | 22/148 [04:31<28:38, 13.64s/it]"
     ]
    },
    {
     "name": "stdout",
     "output_type": "stream",
     "text": [
      "[' No'] [0.0]\n"
     ]
    },
    {
     "name": "stderr",
     "output_type": "stream",
     "text": [
      " 16%|█▌        | 23/148 [04:39<24:54, 11.96s/it]"
     ]
    },
    {
     "name": "stdout",
     "output_type": "stream",
     "text": [
      "[' No'] [0.0]\n"
     ]
    },
    {
     "name": "stderr",
     "output_type": "stream",
     "text": [
      " 16%|█▌        | 24/148 [04:47<22:23, 10.84s/it]"
     ]
    },
    {
     "name": "stdout",
     "output_type": "stream",
     "text": [
      "['Not'] [0.0]\n"
     ]
    },
    {
     "name": "stderr",
     "output_type": "stream",
     "text": [
      " 17%|█▋        | 25/148 [04:56<20:52, 10.18s/it]"
     ]
    },
    {
     "name": "stdout",
     "output_type": "stream",
     "text": [
      "['Not clin'] [0.0]\n"
     ]
    },
    {
     "name": "stderr",
     "output_type": "stream",
     "text": [
      " 18%|█▊        | 26/148 [05:13<24:36, 12.10s/it]"
     ]
    },
    {
     "name": "stdout",
     "output_type": "stream",
     "text": [
      "[' No'] [0.0]\n"
     ]
    },
    {
     "name": "stderr",
     "output_type": "stream",
     "text": [
      " 18%|█▊        | 27/148 [05:21<22:06, 10.96s/it]"
     ]
    },
    {
     "name": "stdout",
     "output_type": "stream",
     "text": [
      "[' No'] [0.0]\n"
     ]
    },
    {
     "name": "stderr",
     "output_type": "stream",
     "text": [
      " 19%|█▉        | 28/148 [05:37<25:09, 12.58s/it]"
     ]
    },
    {
     "name": "stdout",
     "output_type": "stream",
     "text": [
      "[' No'] [0.0]\n"
     ]
    },
    {
     "name": "stderr",
     "output_type": "stream",
     "text": [
      " 20%|█▉        | 29/148 [05:44<21:25, 10.81s/it]"
     ]
    },
    {
     "name": "stdout",
     "output_type": "stream",
     "text": [
      "[' Yes'] [0.99999999999999]\n"
     ]
    },
    {
     "name": "stderr",
     "output_type": "stream",
     "text": [
      " 20%|██        | 30/148 [05:57<22:16, 11.33s/it]"
     ]
    },
    {
     "name": "stdout",
     "output_type": "stream",
     "text": [
      "['Not'] [0.0]\n"
     ]
    },
    {
     "name": "stderr",
     "output_type": "stream",
     "text": [
      " 21%|██        | 31/148 [06:13<25:01, 12.83s/it]"
     ]
    },
    {
     "name": "stdout",
     "output_type": "stream",
     "text": [
      "[' No'] [0.0]\n"
     ]
    },
    {
     "name": "stderr",
     "output_type": "stream",
     "text": [
      " 22%|██▏       | 32/148 [06:21<22:06, 11.43s/it]"
     ]
    },
    {
     "name": "stdout",
     "output_type": "stream",
     "text": [
      "[' No'] [0.0]\n"
     ]
    },
    {
     "name": "stderr",
     "output_type": "stream",
     "text": [
      " 22%|██▏       | 33/148 [06:38<24:48, 12.94s/it]"
     ]
    },
    {
     "name": "stdout",
     "output_type": "stream",
     "text": [
      "[' No'] [0.0]\n"
     ]
    },
    {
     "name": "stderr",
     "output_type": "stream",
     "text": [
      " 23%|██▎       | 34/148 [06:54<26:37, 14.01s/it]"
     ]
    },
    {
     "name": "stdout",
     "output_type": "stream",
     "text": [
      "[' No'] [0.0]\n"
     ]
    },
    {
     "name": "stderr",
     "output_type": "stream",
     "text": [
      " 24%|██▎       | 35/148 [07:03<23:44, 12.61s/it]"
     ]
    },
    {
     "name": "stdout",
     "output_type": "stream",
     "text": [
      "['Not Clinical trial toxic'] [0.0]\n"
     ]
    },
    {
     "name": "stderr",
     "output_type": "stream",
     "text": [
      " 24%|██▍       | 36/148 [07:22<26:39, 14.28s/it]"
     ]
    },
    {
     "name": "stdout",
     "output_type": "stream",
     "text": [
      "[' No'] [0.0]\n"
     ]
    },
    {
     "name": "stderr",
     "output_type": "stream",
     "text": [
      " 25%|██▌       | 37/148 [07:38<27:42, 14.98s/it]"
     ]
    },
    {
     "name": "stdout",
     "output_type": "stream",
     "text": [
      "[' Yes'] [0.499999999999995]\n"
     ]
    },
    {
     "name": "stderr",
     "output_type": "stream",
     "text": [
      " 26%|██▌       | 38/148 [07:55<28:11, 15.38s/it]"
     ]
    },
    {
     "name": "stdout",
     "output_type": "stream",
     "text": [
      "[' No'] [0.0]\n"
     ]
    },
    {
     "name": "stderr",
     "output_type": "stream",
     "text": [
      " 26%|██▋       | 39/148 [08:09<27:24, 15.08s/it]"
     ]
    },
    {
     "name": "stdout",
     "output_type": "stream",
     "text": [
      "[' Yes'] [0.99999999999999]\n"
     ]
    },
    {
     "name": "stderr",
     "output_type": "stream",
     "text": [
      " 27%|██▋       | 40/148 [08:17<23:31, 13.07s/it]"
     ]
    },
    {
     "name": "stdout",
     "output_type": "stream",
     "text": [
      "[' No'] [0.0]\n"
     ]
    },
    {
     "name": "stderr",
     "output_type": "stream",
     "text": [
      " 28%|██▊       | 41/148 [08:25<20:41, 11.60s/it]"
     ]
    },
    {
     "name": "stdout",
     "output_type": "stream",
     "text": [
      "[' No'] [0.0]\n"
     ]
    },
    {
     "name": "stderr",
     "output_type": "stream",
     "text": [
      " 28%|██▊       | 42/148 [08:42<22:51, 12.94s/it]"
     ]
    },
    {
     "name": "stdout",
     "output_type": "stream",
     "text": [
      "[' No'] [0.0]\n"
     ]
    },
    {
     "name": "stderr",
     "output_type": "stream",
     "text": [
      " 29%|██▉       | 43/148 [08:54<22:24, 12.80s/it]"
     ]
    },
    {
     "name": "stdout",
     "output_type": "stream",
     "text": [
      "[' No'] [0.0]\n"
     ]
    },
    {
     "name": "stderr",
     "output_type": "stream",
     "text": [
      " 30%|██▉       | 44/148 [09:03<19:59, 11.53s/it]"
     ]
    },
    {
     "name": "stdout",
     "output_type": "stream",
     "text": [
      "[' No'] [0.0]\n"
     ]
    },
    {
     "name": "stderr",
     "output_type": "stream",
     "text": [
      " 30%|███       | 45/148 [09:19<22:14, 12.96s/it]"
     ]
    },
    {
     "name": "stdout",
     "output_type": "stream",
     "text": [
      "[' Yes'] [0.99999999999999]\n"
     ]
    },
    {
     "name": "stderr",
     "output_type": "stream",
     "text": [
      " 31%|███       | 46/148 [09:35<23:44, 13.97s/it]"
     ]
    },
    {
     "name": "stdout",
     "output_type": "stream",
     "text": [
      "[' No'] [0.0]\n"
     ]
    },
    {
     "name": "stderr",
     "output_type": "stream",
     "text": [
      " 32%|███▏      | 47/148 [09:44<20:48, 12.36s/it]"
     ]
    },
    {
     "name": "stdout",
     "output_type": "stream",
     "text": [
      "['Not clin'] [0.0]\n"
     ]
    },
    {
     "name": "stderr",
     "output_type": "stream",
     "text": [
      " 32%|███▏      | 48/148 [09:52<18:43, 11.24s/it]"
     ]
    },
    {
     "name": "stdout",
     "output_type": "stream",
     "text": [
      "['Not Yes'] [0.0]\n"
     ]
    },
    {
     "name": "stderr",
     "output_type": "stream",
     "text": [
      " 33%|███▎      | 49/148 [10:13<23:05, 13.99s/it]"
     ]
    },
    {
     "name": "stdout",
     "output_type": "stream",
     "text": [
      "[' Yes'] [0.99999999999999]\n"
     ]
    },
    {
     "name": "stderr",
     "output_type": "stream",
     "text": [
      " 34%|███▍      | 50/148 [10:33<25:53, 15.85s/it]"
     ]
    },
    {
     "name": "stdout",
     "output_type": "stream",
     "text": [
      "[' No'] [0.0]\n"
     ]
    },
    {
     "name": "stderr",
     "output_type": "stream",
     "text": [
      " 34%|███▍      | 51/148 [10:45<23:36, 14.61s/it]"
     ]
    },
    {
     "name": "stdout",
     "output_type": "stream",
     "text": [
      "['Not Clinical trial toxic'] [0.0]\n"
     ]
    },
    {
     "name": "stderr",
     "output_type": "stream",
     "text": [
      " 35%|███▌      | 52/148 [11:01<24:10, 15.11s/it]"
     ]
    },
    {
     "name": "stdout",
     "output_type": "stream",
     "text": [
      "[' No'] [0.0]\n"
     ]
    },
    {
     "name": "stderr",
     "output_type": "stream",
     "text": [
      " 36%|███▌      | 53/148 [11:13<22:37, 14.29s/it]"
     ]
    },
    {
     "name": "stdout",
     "output_type": "stream",
     "text": [
      "['Not'] [0.0]\n"
     ]
    },
    {
     "name": "stderr",
     "output_type": "stream",
     "text": [
      " 36%|███▋      | 54/148 [11:24<20:32, 13.11s/it]"
     ]
    },
    {
     "name": "stdout",
     "output_type": "stream",
     "text": [
      "[' No'] [0.0]\n"
     ]
    },
    {
     "name": "stderr",
     "output_type": "stream",
     "text": [
      " 37%|███▋      | 55/148 [11:33<18:39, 12.04s/it]"
     ]
    },
    {
     "name": "stdout",
     "output_type": "stream",
     "text": [
      "['Not Clinical trial toxic'] [0.0]\n"
     ]
    },
    {
     "name": "stderr",
     "output_type": "stream",
     "text": [
      " 38%|███▊      | 56/148 [11:42<16:43, 10.91s/it]"
     ]
    },
    {
     "name": "stdout",
     "output_type": "stream",
     "text": [
      "['Not'] [0.0]\n"
     ]
    },
    {
     "name": "stderr",
     "output_type": "stream",
     "text": [
      " 39%|███▊      | 57/148 [11:58<19:00, 12.53s/it]"
     ]
    },
    {
     "name": "stdout",
     "output_type": "stream",
     "text": [
      "[' No'] [0.0]\n"
     ]
    },
    {
     "name": "stderr",
     "output_type": "stream",
     "text": [
      " 39%|███▉      | 58/148 [12:14<20:35, 13.73s/it]"
     ]
    },
    {
     "name": "stdout",
     "output_type": "stream",
     "text": [
      "[' Yes'] [0.99999999999999]\n"
     ]
    },
    {
     "name": "stderr",
     "output_type": "stream",
     "text": [
      " 40%|███▉      | 59/148 [12:23<17:57, 12.11s/it]"
     ]
    },
    {
     "name": "stdout",
     "output_type": "stream",
     "text": [
      "['Not'] [0.0]\n"
     ]
    },
    {
     "name": "stderr",
     "output_type": "stream",
     "text": [
      " 41%|████      | 60/148 [12:30<15:27, 10.54s/it]"
     ]
    },
    {
     "name": "stdout",
     "output_type": "stream",
     "text": [
      "['Not clin'] [0.0]\n"
     ]
    },
    {
     "name": "stderr",
     "output_type": "stream",
     "text": [
      " 41%|████      | 61/148 [12:38<14:24,  9.93s/it]"
     ]
    },
    {
     "name": "stdout",
     "output_type": "stream",
     "text": [
      "['Not clin'] [0.0]\n"
     ]
    },
    {
     "name": "stderr",
     "output_type": "stream",
     "text": [
      " 42%|████▏     | 62/148 [12:45<12:47,  8.93s/it]"
     ]
    },
    {
     "name": "stdout",
     "output_type": "stream",
     "text": [
      "['Not'] [0.0]\n"
     ]
    },
    {
     "name": "stderr",
     "output_type": "stream",
     "text": [
      " 43%|████▎     | 63/148 [12:51<11:40,  8.24s/it]"
     ]
    },
    {
     "name": "stdout",
     "output_type": "stream",
     "text": [
      "[' No'] [0.0]\n"
     ]
    },
    {
     "name": "stderr",
     "output_type": "stream",
     "text": [
      " 43%|████▎     | 64/148 [12:58<10:49,  7.73s/it]"
     ]
    },
    {
     "name": "stdout",
     "output_type": "stream",
     "text": [
      "['Not'] [0.0]\n"
     ]
    },
    {
     "name": "stderr",
     "output_type": "stream",
     "text": [
      " 44%|████▍     | 65/148 [13:08<11:44,  8.49s/it]"
     ]
    },
    {
     "name": "stdout",
     "output_type": "stream",
     "text": [
      "['Not'] [0.0]\n"
     ]
    },
    {
     "name": "stderr",
     "output_type": "stream",
     "text": [
      " 45%|████▍     | 66/148 [13:26<15:33, 11.38s/it]"
     ]
    },
    {
     "name": "stdout",
     "output_type": "stream",
     "text": [
      "[' Yes'] [0.99999999999999]\n"
     ]
    },
    {
     "name": "stderr",
     "output_type": "stream",
     "text": [
      " 45%|████▌     | 67/148 [13:36<14:34, 10.80s/it]"
     ]
    },
    {
     "name": "stdout",
     "output_type": "stream",
     "text": [
      "['Not Clinical trial toxic'] [0.0]\n"
     ]
    },
    {
     "name": "stderr",
     "output_type": "stream",
     "text": [
      " 46%|████▌     | 68/148 [13:52<16:39, 12.49s/it]"
     ]
    },
    {
     "name": "stdout",
     "output_type": "stream",
     "text": [
      "[' No'] [0.0]\n"
     ]
    },
    {
     "name": "stderr",
     "output_type": "stream",
     "text": [
      " 47%|████▋     | 69/148 [14:00<14:44, 11.20s/it]"
     ]
    },
    {
     "name": "stdout",
     "output_type": "stream",
     "text": [
      "['Not'] [0.0]\n"
     ]
    },
    {
     "name": "stderr",
     "output_type": "stream",
     "text": [
      " 47%|████▋     | 70/148 [14:13<14:59, 11.53s/it]"
     ]
    },
    {
     "name": "stdout",
     "output_type": "stream",
     "text": [
      "[' No'] [0.0]\n"
     ]
    },
    {
     "name": "stderr",
     "output_type": "stream",
     "text": [
      " 48%|████▊     | 71/148 [14:20<13:02, 10.16s/it]"
     ]
    },
    {
     "name": "stdout",
     "output_type": "stream",
     "text": [
      "['Not clin'] [0.0]\n"
     ]
    },
    {
     "name": "stderr",
     "output_type": "stream",
     "text": [
      " 49%|████▊     | 72/148 [14:30<12:52, 10.16s/it]"
     ]
    },
    {
     "name": "stdout",
     "output_type": "stream",
     "text": [
      "[' No'] [0.0]\n"
     ]
    },
    {
     "name": "stderr",
     "output_type": "stream",
     "text": [
      " 49%|████▉     | 73/148 [14:40<12:44, 10.20s/it]"
     ]
    },
    {
     "name": "stdout",
     "output_type": "stream",
     "text": [
      "[' No'] [0.0]\n"
     ]
    },
    {
     "name": "stderr",
     "output_type": "stream",
     "text": [
      " 50%|█████     | 74/148 [14:48<11:38,  9.44s/it]"
     ]
    },
    {
     "name": "stdout",
     "output_type": "stream",
     "text": [
      "['Not Clinical trial toxic'] [0.0]\n"
     ]
    },
    {
     "name": "stderr",
     "output_type": "stream",
     "text": [
      " 51%|█████     | 75/148 [14:54<10:23,  8.54s/it]"
     ]
    },
    {
     "name": "stdout",
     "output_type": "stream",
     "text": [
      "[' No'] [0.0]\n"
     ]
    },
    {
     "name": "stderr",
     "output_type": "stream",
     "text": [
      " 51%|█████▏    | 76/148 [15:11<13:04, 10.90s/it]"
     ]
    },
    {
     "name": "stdout",
     "output_type": "stream",
     "text": [
      "[' No'] [0.0]\n"
     ]
    },
    {
     "name": "stderr",
     "output_type": "stream",
     "text": [
      " 52%|█████▏    | 77/148 [15:27<14:54, 12.60s/it]"
     ]
    },
    {
     "name": "stdout",
     "output_type": "stream",
     "text": [
      "[' No'] [0.0]\n"
     ]
    },
    {
     "name": "stderr",
     "output_type": "stream",
     "text": [
      " 53%|█████▎    | 78/148 [15:36<13:14, 11.35s/it]"
     ]
    },
    {
     "name": "stdout",
     "output_type": "stream",
     "text": [
      "[' No'] [0.0]\n"
     ]
    },
    {
     "name": "stderr",
     "output_type": "stream",
     "text": [
      " 53%|█████▎    | 79/148 [15:52<14:46, 12.84s/it]"
     ]
    },
    {
     "name": "stdout",
     "output_type": "stream",
     "text": [
      "[' No'] [0.0]\n"
     ]
    },
    {
     "name": "stderr",
     "output_type": "stream",
     "text": [
      " 54%|█████▍    | 80/148 [16:04<14:25, 12.72s/it]"
     ]
    },
    {
     "name": "stdout",
     "output_type": "stream",
     "text": [
      "['Not'] [0.0]\n"
     ]
    },
    {
     "name": "stderr",
     "output_type": "stream",
     "text": [
      " 55%|█████▍    | 81/148 [16:15<13:23, 12.00s/it]"
     ]
    },
    {
     "name": "stdout",
     "output_type": "stream",
     "text": [
      "[' Yes'] [0.99999999999999]\n"
     ]
    },
    {
     "name": "stderr",
     "output_type": "stream",
     "text": [
      " 55%|█████▌    | 82/148 [16:21<11:27, 10.42s/it]"
     ]
    },
    {
     "name": "stdout",
     "output_type": "stream",
     "text": [
      "[' No'] [0.0]\n"
     ]
    },
    {
     "name": "stderr",
     "output_type": "stream",
     "text": [
      " 56%|█████▌    | 83/148 [16:36<12:33, 11.60s/it]"
     ]
    },
    {
     "name": "stdout",
     "output_type": "stream",
     "text": [
      "[' No'] [0.0]\n"
     ]
    },
    {
     "name": "stderr",
     "output_type": "stream",
     "text": [
      " 57%|█████▋    | 84/148 [16:46<11:55, 11.19s/it]"
     ]
    },
    {
     "name": "stdout",
     "output_type": "stream",
     "text": [
      "[' No'] [0.0]\n"
     ]
    },
    {
     "name": "stderr",
     "output_type": "stream",
     "text": [
      " 57%|█████▋    | 85/148 [16:54<10:47, 10.29s/it]"
     ]
    },
    {
     "name": "stdout",
     "output_type": "stream",
     "text": [
      "[' No'] [0.0]\n"
     ]
    },
    {
     "name": "stderr",
     "output_type": "stream",
     "text": [
      " 58%|█████▊    | 86/148 [17:01<09:35,  9.29s/it]"
     ]
    },
    {
     "name": "stdout",
     "output_type": "stream",
     "text": [
      "['Not clin'] [0.0]\n"
     ]
    },
    {
     "name": "stderr",
     "output_type": "stream",
     "text": [
      " 59%|█████▉    | 87/148 [17:08<08:37,  8.48s/it]"
     ]
    },
    {
     "name": "stdout",
     "output_type": "stream",
     "text": [
      "['Not'] [0.0]\n"
     ]
    },
    {
     "name": "stderr",
     "output_type": "stream",
     "text": [
      " 59%|█████▉    | 88/148 [17:17<08:46,  8.77s/it]"
     ]
    },
    {
     "name": "stdout",
     "output_type": "stream",
     "text": [
      "['Not Clinical trial toxic'] [0.0]\n"
     ]
    },
    {
     "name": "stderr",
     "output_type": "stream",
     "text": [
      " 60%|██████    | 89/148 [17:24<08:03,  8.20s/it]"
     ]
    },
    {
     "name": "stdout",
     "output_type": "stream",
     "text": [
      "['Not clin'] [0.0]\n"
     ]
    },
    {
     "name": "stderr",
     "output_type": "stream",
     "text": [
      " 61%|██████    | 90/148 [17:35<08:52,  9.18s/it]"
     ]
    },
    {
     "name": "stdout",
     "output_type": "stream",
     "text": [
      "['Not Clinical trial toxic'] [0.0]\n"
     ]
    },
    {
     "name": "stderr",
     "output_type": "stream",
     "text": [
      " 61%|██████▏   | 91/148 [17:52<10:45, 11.33s/it]"
     ]
    },
    {
     "name": "stdout",
     "output_type": "stream",
     "text": [
      "[' No'] [0.0]\n"
     ]
    },
    {
     "name": "stderr",
     "output_type": "stream",
     "text": [
      " 62%|██████▏   | 92/148 [18:01<10:00, 10.72s/it]"
     ]
    },
    {
     "name": "stdout",
     "output_type": "stream",
     "text": [
      "['Not Clinical trial toxic'] [0.0]\n"
     ]
    },
    {
     "name": "stderr",
     "output_type": "stream",
     "text": [
      " 63%|██████▎   | 93/148 [18:09<09:06,  9.94s/it]"
     ]
    },
    {
     "name": "stdout",
     "output_type": "stream",
     "text": [
      "[' No'] [0.0]\n"
     ]
    },
    {
     "name": "stderr",
     "output_type": "stream",
     "text": [
      " 64%|██████▎   | 94/148 [18:26<10:41, 11.87s/it]"
     ]
    },
    {
     "name": "stdout",
     "output_type": "stream",
     "text": [
      "[' No'] [0.0]\n"
     ]
    },
    {
     "name": "stderr",
     "output_type": "stream",
     "text": [
      " 64%|██████▍   | 95/148 [18:44<12:10, 13.79s/it]"
     ]
    },
    {
     "name": "stdout",
     "output_type": "stream",
     "text": [
      "[' No'] [0.0]\n"
     ]
    },
    {
     "name": "stderr",
     "output_type": "stream",
     "text": [
      " 65%|██████▍   | 96/148 [19:00<12:39, 14.61s/it]"
     ]
    },
    {
     "name": "stdout",
     "output_type": "stream",
     "text": [
      "[' No'] [0.0]\n"
     ]
    },
    {
     "name": "stderr",
     "output_type": "stream",
     "text": [
      " 66%|██████▌   | 97/148 [19:09<10:53, 12.82s/it]"
     ]
    },
    {
     "name": "stdout",
     "output_type": "stream",
     "text": [
      "['Not clin'] [0.0]\n"
     ]
    },
    {
     "name": "stderr",
     "output_type": "stream",
     "text": [
      " 66%|██████▌   | 98/148 [19:17<09:31, 11.43s/it]"
     ]
    },
    {
     "name": "stdout",
     "output_type": "stream",
     "text": [
      "[' No'] [0.0]\n"
     ]
    },
    {
     "name": "stderr",
     "output_type": "stream",
     "text": [
      " 67%|██████▋   | 99/148 [19:30<09:32, 11.68s/it]"
     ]
    },
    {
     "name": "stdout",
     "output_type": "stream",
     "text": [
      "['Not'] [0.0]\n"
     ]
    },
    {
     "name": "stderr",
     "output_type": "stream",
     "text": [
      " 68%|██████▊   | 100/148 [19:42<09:30, 11.88s/it]"
     ]
    },
    {
     "name": "stdout",
     "output_type": "stream",
     "text": [
      "[' No'] [0.0]\n"
     ]
    },
    {
     "name": "stderr",
     "output_type": "stream",
     "text": [
      " 68%|██████▊   | 101/148 [19:58<10:21, 13.23s/it]"
     ]
    },
    {
     "name": "stdout",
     "output_type": "stream",
     "text": [
      "[' No'] [0.0]\n"
     ]
    },
    {
     "name": "stderr",
     "output_type": "stream",
     "text": [
      " 69%|██████▉   | 102/148 [20:06<08:59, 11.73s/it]"
     ]
    },
    {
     "name": "stdout",
     "output_type": "stream",
     "text": [
      "[' No'] [0.0]\n"
     ]
    },
    {
     "name": "stderr",
     "output_type": "stream",
     "text": [
      " 70%|██████▉   | 103/148 [20:15<08:05, 10.78s/it]"
     ]
    },
    {
     "name": "stdout",
     "output_type": "stream",
     "text": [
      "['Not clin'] [0.0]\n"
     ]
    },
    {
     "name": "stderr",
     "output_type": "stream",
     "text": [
      " 70%|███████   | 104/148 [20:23<07:18,  9.97s/it]"
     ]
    },
    {
     "name": "stdout",
     "output_type": "stream",
     "text": [
      "[' No'] [0.0]\n"
     ]
    },
    {
     "name": "stderr",
     "output_type": "stream",
     "text": [
      " 71%|███████   | 105/148 [20:31<06:44,  9.40s/it]"
     ]
    },
    {
     "name": "stdout",
     "output_type": "stream",
     "text": [
      "[' No'] [0.0]\n"
     ]
    },
    {
     "name": "stderr",
     "output_type": "stream",
     "text": [
      " 72%|███████▏  | 106/148 [20:39<06:19,  9.03s/it]"
     ]
    },
    {
     "name": "stdout",
     "output_type": "stream",
     "text": [
      "['Not'] [0.0]\n"
     ]
    },
    {
     "name": "stderr",
     "output_type": "stream",
     "text": [
      " 72%|███████▏  | 107/148 [20:47<05:59,  8.76s/it]"
     ]
    },
    {
     "name": "stdout",
     "output_type": "stream",
     "text": [
      "['Not'] [0.0]\n"
     ]
    },
    {
     "name": "stderr",
     "output_type": "stream",
     "text": [
      " 73%|███████▎  | 108/148 [21:00<06:32,  9.82s/it]"
     ]
    },
    {
     "name": "stdout",
     "output_type": "stream",
     "text": [
      "['Not'] [0.0]\n"
     ]
    },
    {
     "name": "stderr",
     "output_type": "stream",
     "text": [
      " 74%|███████▎  | 109/148 [21:08<06:08,  9.46s/it]"
     ]
    },
    {
     "name": "stdout",
     "output_type": "stream",
     "text": [
      "['Not clin'] [0.0]\n"
     ]
    },
    {
     "name": "stderr",
     "output_type": "stream",
     "text": [
      " 74%|███████▍  | 110/148 [21:18<05:58,  9.43s/it]"
     ]
    },
    {
     "name": "stdout",
     "output_type": "stream",
     "text": [
      "['Not Clinical trial toxic'] [0.0]\n"
     ]
    },
    {
     "name": "stderr",
     "output_type": "stream",
     "text": [
      " 75%|███████▌  | 111/148 [21:28<05:57,  9.67s/it]"
     ]
    },
    {
     "name": "stdout",
     "output_type": "stream",
     "text": [
      "[' No'] [0.0]\n"
     ]
    },
    {
     "name": "stderr",
     "output_type": "stream",
     "text": [
      " 76%|███████▌  | 112/148 [21:36<05:32,  9.22s/it]"
     ]
    },
    {
     "name": "stdout",
     "output_type": "stream",
     "text": [
      "[' No'] [0.0]\n"
     ]
    },
    {
     "name": "stderr",
     "output_type": "stream",
     "text": [
      " 76%|███████▋  | 113/148 [21:43<04:57,  8.51s/it]"
     ]
    },
    {
     "name": "stdout",
     "output_type": "stream",
     "text": [
      "['Not clin'] [0.0]\n"
     ]
    },
    {
     "name": "stderr",
     "output_type": "stream",
     "text": [
      " 77%|███████▋  | 114/148 [21:51<04:39,  8.23s/it]"
     ]
    },
    {
     "name": "stdout",
     "output_type": "stream",
     "text": [
      "['Not Clinical trial toxic'] [0.0]\n"
     ]
    },
    {
     "name": "stderr",
     "output_type": "stream",
     "text": [
      " 78%|███████▊  | 115/148 [22:07<05:53, 10.71s/it]"
     ]
    },
    {
     "name": "stdout",
     "output_type": "stream",
     "text": [
      "[' No'] [0.0]\n"
     ]
    },
    {
     "name": "stderr",
     "output_type": "stream",
     "text": [
      " 78%|███████▊  | 116/148 [22:25<06:54, 12.94s/it]"
     ]
    },
    {
     "name": "stdout",
     "output_type": "stream",
     "text": [
      "[' No'] [0.0]\n"
     ]
    },
    {
     "name": "stderr",
     "output_type": "stream",
     "text": [
      " 79%|███████▉  | 117/148 [22:42<07:13, 13.99s/it]"
     ]
    },
    {
     "name": "stdout",
     "output_type": "stream",
     "text": [
      "[' No'] [0.0]\n"
     ]
    },
    {
     "name": "stderr",
     "output_type": "stream",
     "text": [
      " 80%|███████▉  | 118/148 [22:50<06:07, 12.24s/it]"
     ]
    },
    {
     "name": "stdout",
     "output_type": "stream",
     "text": [
      "['Not'] [0.0]\n"
     ]
    },
    {
     "name": "stderr",
     "output_type": "stream",
     "text": [
      " 80%|████████  | 119/148 [23:06<06:31, 13.49s/it]"
     ]
    },
    {
     "name": "stdout",
     "output_type": "stream",
     "text": [
      "[' No'] [0.0]\n"
     ]
    },
    {
     "name": "stderr",
     "output_type": "stream",
     "text": [
      " 81%|████████  | 120/148 [23:23<06:43, 14.40s/it]"
     ]
    },
    {
     "name": "stdout",
     "output_type": "stream",
     "text": [
      "[' No'] [0.0]\n"
     ]
    },
    {
     "name": "stderr",
     "output_type": "stream",
     "text": [
      " 82%|████████▏ | 121/148 [23:29<05:25, 12.05s/it]"
     ]
    },
    {
     "name": "stdout",
     "output_type": "stream",
     "text": [
      "['Not'] [0.0]\n"
     ]
    },
    {
     "name": "stderr",
     "output_type": "stream",
     "text": [
      " 82%|████████▏ | 122/148 [23:36<04:34, 10.57s/it]"
     ]
    },
    {
     "name": "stdout",
     "output_type": "stream",
     "text": [
      "['Not clin'] [0.0]\n"
     ]
    },
    {
     "name": "stderr",
     "output_type": "stream",
     "text": [
      " 83%|████████▎ | 123/148 [23:46<04:14, 10.17s/it]"
     ]
    },
    {
     "name": "stdout",
     "output_type": "stream",
     "text": [
      "['Not Clinical trial toxic'] [0.0]\n"
     ]
    },
    {
     "name": "stderr",
     "output_type": "stream",
     "text": [
      " 84%|████████▍ | 124/148 [23:52<03:38,  9.12s/it]"
     ]
    },
    {
     "name": "stdout",
     "output_type": "stream",
     "text": [
      "['Not'] [0.0]\n"
     ]
    },
    {
     "name": "stderr",
     "output_type": "stream",
     "text": [
      " 84%|████████▍ | 125/148 [24:09<04:20, 11.31s/it]"
     ]
    },
    {
     "name": "stdout",
     "output_type": "stream",
     "text": [
      "[' No'] [0.0]\n"
     ]
    },
    {
     "name": "stderr",
     "output_type": "stream",
     "text": [
      " 85%|████████▌ | 126/148 [24:18<03:56, 10.75s/it]"
     ]
    },
    {
     "name": "stdout",
     "output_type": "stream",
     "text": [
      "['Not Clinical trial toxic'] [0.0]\n"
     ]
    },
    {
     "name": "stderr",
     "output_type": "stream",
     "text": [
      " 86%|████████▌ | 127/148 [24:27<03:33, 10.14s/it]"
     ]
    },
    {
     "name": "stdout",
     "output_type": "stream",
     "text": [
      "['Not clin'] [0.0]\n"
     ]
    },
    {
     "name": "stderr",
     "output_type": "stream",
     "text": [
      " 86%|████████▋ | 128/148 [24:37<03:24, 10.21s/it]"
     ]
    },
    {
     "name": "stdout",
     "output_type": "stream",
     "text": [
      "['Not'] [0.0]\n"
     ]
    },
    {
     "name": "stderr",
     "output_type": "stream",
     "text": [
      " 87%|████████▋ | 129/148 [24:52<03:39, 11.55s/it]"
     ]
    },
    {
     "name": "stdout",
     "output_type": "stream",
     "text": [
      "[' No'] [0.0]\n"
     ]
    },
    {
     "name": "stderr",
     "output_type": "stream",
     "text": [
      " 88%|████████▊ | 130/148 [24:58<03:00, 10.04s/it]"
     ]
    },
    {
     "name": "stdout",
     "output_type": "stream",
     "text": [
      "[' No'] [0.0]\n"
     ]
    },
    {
     "name": "stderr",
     "output_type": "stream",
     "text": [
      " 89%|████████▊ | 131/148 [25:07<02:41,  9.48s/it]"
     ]
    },
    {
     "name": "stdout",
     "output_type": "stream",
     "text": [
      "[' No'] [0.0]\n"
     ]
    },
    {
     "name": "stderr",
     "output_type": "stream",
     "text": [
      " 89%|████████▉ | 132/148 [25:23<03:05, 11.60s/it]"
     ]
    },
    {
     "name": "stdout",
     "output_type": "stream",
     "text": [
      "[' No'] [0.0]\n"
     ]
    },
    {
     "name": "stderr",
     "output_type": "stream",
     "text": [
      " 90%|████████▉ | 133/148 [25:40<03:15, 13.05s/it]"
     ]
    },
    {
     "name": "stdout",
     "output_type": "stream",
     "text": [
      "[' No'] [0.0]\n"
     ]
    },
    {
     "name": "stderr",
     "output_type": "stream",
     "text": [
      " 91%|█████████ | 134/148 [25:49<02:46, 11.92s/it]"
     ]
    },
    {
     "name": "stdout",
     "output_type": "stream",
     "text": [
      "['Not Clinical trial toxic'] [0.0]\n"
     ]
    },
    {
     "name": "stderr",
     "output_type": "stream",
     "text": [
      " 91%|█████████ | 135/148 [25:57<02:19, 10.76s/it]"
     ]
    },
    {
     "name": "stdout",
     "output_type": "stream",
     "text": [
      "[' No'] [0.0]\n"
     ]
    },
    {
     "name": "stderr",
     "output_type": "stream",
     "text": [
      " 92%|█████████▏| 136/148 [26:15<02:36, 13.02s/it]"
     ]
    },
    {
     "name": "stdout",
     "output_type": "stream",
     "text": [
      "[' No'] [0.0]\n"
     ]
    },
    {
     "name": "stderr",
     "output_type": "stream",
     "text": [
      " 93%|█████████▎| 137/148 [26:23<02:07, 11.57s/it]"
     ]
    },
    {
     "name": "stdout",
     "output_type": "stream",
     "text": [
      "[' No'] [0.0]\n"
     ]
    },
    {
     "name": "stderr",
     "output_type": "stream",
     "text": [
      " 93%|█████████▎| 138/148 [26:33<01:48, 10.85s/it]"
     ]
    },
    {
     "name": "stdout",
     "output_type": "stream",
     "text": [
      "['Not Clinical trial toxic'] [0.0]\n"
     ]
    },
    {
     "name": "stderr",
     "output_type": "stream",
     "text": [
      " 94%|█████████▍| 139/148 [26:49<01:52, 12.51s/it]"
     ]
    },
    {
     "name": "stdout",
     "output_type": "stream",
     "text": [
      "[' No'] [0.0]\n"
     ]
    },
    {
     "name": "stderr",
     "output_type": "stream",
     "text": [
      " 95%|█████████▍| 140/148 [27:02<01:40, 12.62s/it]"
     ]
    },
    {
     "name": "stdout",
     "output_type": "stream",
     "text": [
      "['Not clin'] [0.0]\n"
     ]
    },
    {
     "name": "stderr",
     "output_type": "stream",
     "text": [
      " 95%|█████████▌| 141/148 [27:12<01:23, 11.88s/it]"
     ]
    },
    {
     "name": "stdout",
     "output_type": "stream",
     "text": [
      "[' No'] [0.0]\n"
     ]
    },
    {
     "name": "stderr",
     "output_type": "stream",
     "text": [
      " 96%|█████████▌| 142/148 [27:28<01:19, 13.19s/it]"
     ]
    },
    {
     "name": "stdout",
     "output_type": "stream",
     "text": [
      "[' No'] [0.0]\n"
     ]
    },
    {
     "name": "stderr",
     "output_type": "stream",
     "text": [
      " 97%|█████████▋| 143/148 [27:45<01:10, 14.20s/it]"
     ]
    },
    {
     "name": "stdout",
     "output_type": "stream",
     "text": [
      "[' No'] [0.0]\n"
     ]
    },
    {
     "name": "stderr",
     "output_type": "stream",
     "text": [
      " 97%|█████████▋| 144/148 [27:53<00:50, 12.54s/it]"
     ]
    },
    {
     "name": "stdout",
     "output_type": "stream",
     "text": [
      "['Not clin'] [0.0]\n"
     ]
    },
    {
     "name": "stderr",
     "output_type": "stream",
     "text": [
      " 98%|█████████▊| 145/148 [28:02<00:33, 11.26s/it]"
     ]
    },
    {
     "name": "stdout",
     "output_type": "stream",
     "text": [
      "[' No'] [0.0]\n"
     ]
    },
    {
     "name": "stderr",
     "output_type": "stream",
     "text": [
      " 99%|█████████▊| 146/148 [28:18<00:25, 12.77s/it]"
     ]
    },
    {
     "name": "stdout",
     "output_type": "stream",
     "text": [
      "[' No'] [0.0]\n"
     ]
    },
    {
     "name": "stderr",
     "output_type": "stream",
     "text": [
      " 99%|█████████▉| 147/148 [28:36<00:14, 14.42s/it]"
     ]
    },
    {
     "name": "stdout",
     "output_type": "stream",
     "text": [
      "[' No'] [0.0]\n"
     ]
    },
    {
     "name": "stderr",
     "output_type": "stream",
     "text": [
      "100%|██████████| 148/148 [28:44<00:00, 11.65s/it]"
     ]
    },
    {
     "name": "stdout",
     "output_type": "stream",
     "text": [
      "['Not Clinical trial toxic'] [0.0]\n",
      "[' No', 'Not clin', ' No', ' No', ' No', ' No', 'Not', ' Yes', 'Not', ' No', ' No', ' No', 'Not Clinical trial toxic', 'Not', 'Not Clinical trial toxic', 'Not', ' Yes', ' No', ' No', ' No', ' No', ' No', ' No', 'Not', 'Not clin', ' No', ' No', ' No', ' Yes', 'Not', ' No', ' No', ' No', ' No', 'Not Clinical trial toxic', ' No', ' Yes', ' No', ' Yes', ' No', ' No', ' No', ' No', ' No', ' Yes', ' No', 'Not clin', 'Not Yes', ' Yes', ' No', 'Not Clinical trial toxic', ' No', 'Not', ' No', 'Not Clinical trial toxic', 'Not', ' No', ' Yes', 'Not', 'Not clin', 'Not clin', 'Not', ' No', 'Not', 'Not', ' Yes', 'Not Clinical trial toxic', ' No', 'Not', ' No', 'Not clin', ' No', ' No', 'Not Clinical trial toxic', ' No', ' No', ' No', ' No', ' No', 'Not', ' Yes', ' No', ' No', ' No', ' No', 'Not clin', 'Not', 'Not Clinical trial toxic', 'Not clin', 'Not Clinical trial toxic', ' No', 'Not Clinical trial toxic', ' No', ' No', ' No', ' No', 'Not clin', ' No', 'Not', ' No', ' No', ' No', 'Not clin', ' No', ' No', 'Not', 'Not', 'Not', 'Not clin', 'Not Clinical trial toxic', ' No', ' No', 'Not clin', 'Not Clinical trial toxic', ' No', ' No', ' No', 'Not', ' No', ' No', 'Not', 'Not clin', 'Not Clinical trial toxic', 'Not', ' No', 'Not Clinical trial toxic', 'Not clin', 'Not', ' No', ' No', ' No', ' No', ' No', 'Not Clinical trial toxic', ' No', ' No', ' No', 'Not Clinical trial toxic', ' No', 'Not clin', ' No', ' No', ' No', 'Not clin', ' No', ' No', ' No', 'Not Clinical trial toxic']\n",
      "[0.0, 0.0, 0.0, 0.0, 0.0, 0.0, 0.0, 0.0, 0.0, 0.0, 0.0, 0.0, 0.0, 0.0, 0.0, 0.0, 0.0, 0.0, 0.0, 0.0, 0.0, 0.0, 1.0, 0.0, 0.0, 0.0, 0.0, 0.0, 0.0, 0.0, 0.0, 0.0, 0.0, 0.0, 0.0, 0.0, 0.0, 0.0, 0.0, 0.0, 0.0, 0.0, 0.0, 0.0, 1.0, 0.0, 0.0, 0.0, 0.0, 0.0, 0.0, 0.0, 0.0, 0.0, 0.0, 0.0, 0.0, 0.0, 0.0, 0.0, 0.0, 1.0, 0.0, 0.0, 0.0, 0.0, 0.0, 0.0, 0.0, 0.0, 0.0, 0.0, 0.0, 0.0, 0.0, 0.0, 0.0, 1.0, 1.0, 0.0, 1.0, 0.0, 0.0, 0.0, 0.0, 0.0, 0.0, 0.0, 0.0, 0.0, 0.0, 0.0, 1.0, 0.0, 0.0, 0.0, 0.0, 0.0, 0.0, 0.0, 0.0, 0.0, 0.0, 0.0, 0.0, 0.0, 0.0, 0.0, 0.0, 0.0, 0.0, 0.0, 0.0, 0.0, 0.0, 0.0, 0.0, 0.0, 0.0, 0.0, 0.0, 1.0, 0.0, 0.0, 0.0, 0.0, 0.0, 0.0, 0.0, 0.0, 0.0, 1.0, 0.0, 0.0, 0.0, 0.0, 0.0, 0.0, 0.0, 0.0, 0.0, 0.0, 1.0, 0.0, 0.0, 0.0, 0.0, 0.0]\n",
      "[0.0, 0.0, 0.0, 0.0, 0.0, 0.0, 0.0, 0.499999999999995, 0.0, 0.0, 0.0, 0.0, 0.0, 0.0, 0.0, 0.0, 0.99999999999999, 0.0, 0.0, 0.0, 0.0, 0.0, 0.0, 0.0, 0.0, 0.0, 0.0, 0.0, 0.99999999999999, 0.0, 0.0, 0.0, 0.0, 0.0, 0.0, 0.0, 0.499999999999995, 0.0, 0.99999999999999, 0.0, 0.0, 0.0, 0.0, 0.0, 0.99999999999999, 0.0, 0.0, 0.0, 0.99999999999999, 0.0, 0.0, 0.0, 0.0, 0.0, 0.0, 0.0, 0.0, 0.99999999999999, 0.0, 0.0, 0.0, 0.0, 0.0, 0.0, 0.0, 0.99999999999999, 0.0, 0.0, 0.0, 0.0, 0.0, 0.0, 0.0, 0.0, 0.0, 0.0, 0.0, 0.0, 0.0, 0.0, 0.99999999999999, 0.0, 0.0, 0.0, 0.0, 0.0, 0.0, 0.0, 0.0, 0.0, 0.0, 0.0, 0.0, 0.0, 0.0, 0.0, 0.0, 0.0, 0.0, 0.0, 0.0, 0.0, 0.0, 0.0, 0.0, 0.0, 0.0, 0.0, 0.0, 0.0, 0.0, 0.0, 0.0, 0.0, 0.0, 0.0, 0.0, 0.0, 0.0, 0.0, 0.0, 0.0, 0.0, 0.0, 0.0, 0.0, 0.0, 0.0, 0.0, 0.0, 0.0, 0.0, 0.0, 0.0, 0.0, 0.0, 0.0, 0.0, 0.0, 0.0, 0.0, 0.0, 0.0, 0.0, 0.0, 0.0, 0.0, 0.0]\n",
      "148\n",
      "0.572463768115942\n"
     ]
    },
    {
     "name": "stderr",
     "output_type": "stream",
     "text": [
      "\n"
     ]
    }
   ],
   "source": [
    "few_shot_prompter = FewShotPrompter1(template=few_shot_prompt, sample_dataset=train_dataset, \n",
    "                                     sample_molecule_format='rdk_fp', \n",
    "                                     sample_mode='cosine_similarity', \n",
    "                                     sample_num=2)\n",
    "\n",
    "main(dataset=test_dataset, batch_size=batch_size, total_batches=total_batches, model=m, prompt_generator=few_shot_prompter.generate_prompt)"
   ]
  },
  {
   "cell_type": "markdown",
   "metadata": {},
   "source": [
    "##### sample_num 4"
   ]
  },
  {
   "cell_type": "code",
   "execution_count": null,
   "metadata": {},
   "outputs": [
    {
     "name": "stderr",
     "output_type": "stream",
     "text": [
      "  0%|          | 0/148 [00:00<?, ?it/s]"
     ]
    }
   ],
   "source": [
    "few_shot_prompter = FewShotPrompter1(template=few_shot_prompt, sample_dataset=train_dataset, \n",
    "                                     sample_molecule_format='rdk_fp', \n",
    "                                     sample_mode='cosine_similarity', \n",
    "                                     sample_num=4)\n",
    "\n",
    "main(dataset=test_dataset, batch_size=batch_size, total_batches=total_batches, model=m, prompt_generator=few_shot_prompter.generate_prompt)"
   ]
  },
  {
   "cell_type": "markdown",
   "metadata": {},
   "source": [
    "##### sample_num 8"
   ]
  },
  {
   "cell_type": "code",
   "execution_count": null,
   "metadata": {},
   "outputs": [],
   "source": [
    "few_shot_prompter = FewShotPrompter1(template=few_shot_prompt, sample_dataset=train_dataset, \n",
    "                                     sample_molecule_format='rdk_fp', \n",
    "                                     sample_mode='cosine_similarity', \n",
    "                                     sample_num=8)\n",
    "\n",
    "main(dataset=test_dataset, batch_size=batch_size, total_batches=total_batches, model=m, prompt_generator=few_shot_prompter.generate_prompt)"
   ]
  },
  {
   "cell_type": "markdown",
   "metadata": {},
   "source": [
    "#### sample_molecule_format morgan_fp"
   ]
  },
  {
   "cell_type": "markdown",
   "metadata": {},
   "source": [
    "##### sample_num 2"
   ]
  },
  {
   "cell_type": "code",
   "execution_count": null,
   "metadata": {},
   "outputs": [],
   "source": [
    "few_shot_prompter = FewShotPrompter1(template=few_shot_prompt, sample_dataset=train_dataset, \n",
    "                                     sample_molecule_format='morgan_fp', \n",
    "                                     sample_mode='cosine_similarity', \n",
    "                                     sample_num=2)\n",
    "\n",
    "main(dataset=test_dataset, batch_size=batch_size, total_batches=total_batches, model=m, prompt_generator=few_shot_prompter.generate_prompt)"
   ]
  },
  {
   "cell_type": "markdown",
   "metadata": {},
   "source": [
    "##### sample_num 4"
   ]
  },
  {
   "cell_type": "code",
   "execution_count": null,
   "metadata": {},
   "outputs": [],
   "source": [
    "few_shot_prompter = FewShotPrompter1(template=few_shot_prompt, sample_dataset=train_dataset, \n",
    "                                     sample_molecule_format='morgan_fp', \n",
    "                                     sample_mode='cosine_similarity', \n",
    "                                     sample_num=4)\n",
    "\n",
    "main(dataset=test_dataset, batch_size=batch_size, total_batches=total_batches, model=m, prompt_generator=few_shot_prompter.generate_prompt)"
   ]
  },
  {
   "cell_type": "markdown",
   "metadata": {},
   "source": [
    "##### sample_num 8"
   ]
  },
  {
   "cell_type": "code",
   "execution_count": null,
   "metadata": {},
   "outputs": [],
   "source": [
    "few_shot_prompter = FewShotPrompter1(template=few_shot_prompt, sample_dataset=train_dataset, \n",
    "                                     sample_molecule_format='morgan_fp', \n",
    "                                     sample_mode='cosine_similarity', \n",
    "                                     sample_num=8)\n",
    "\n",
    "main(dataset=test_dataset, batch_size=batch_size, total_batches=total_batches, model=m, prompt_generator=few_shot_prompter.generate_prompt)"
   ]
  },
  {
   "cell_type": "markdown",
   "metadata": {},
   "source": [
    "### sample_mode tanimoto_similarity"
   ]
  },
  {
   "cell_type": "markdown",
   "metadata": {},
   "source": [
    "#### sample_molecule_format maccs_fp"
   ]
  },
  {
   "cell_type": "markdown",
   "metadata": {},
   "source": [
    "##### sample_num 2"
   ]
  },
  {
   "cell_type": "code",
   "execution_count": null,
   "metadata": {},
   "outputs": [],
   "source": [
    "few_shot_prompter = FewShotPrompter1(template=few_shot_prompt, sample_dataset=train_dataset, \n",
    "                                     sample_molecule_format='maccs_fp', \n",
    "                                     sample_mode='tanimoto_similarity', \n",
    "                                     sample_num=2)\n",
    "\n",
    "main(dataset=test_dataset, batch_size=batch_size, total_batches=total_batches, model=m, prompt_generator=few_shot_prompter.generate_prompt)"
   ]
  },
  {
   "cell_type": "markdown",
   "metadata": {},
   "source": [
    "##### sample_num 4"
   ]
  },
  {
   "cell_type": "code",
   "execution_count": null,
   "metadata": {},
   "outputs": [],
   "source": [
    "few_shot_prompter = FewShotPrompter1(template=few_shot_prompt, sample_dataset=train_dataset, \n",
    "                                     sample_molecule_format='maccs_fp', \n",
    "                                     sample_mode='tanimoto_similarity', \n",
    "                                     sample_num=4)\n",
    "\n",
    "main(dataset=test_dataset, batch_size=batch_size, total_batches=total_batches, model=m, prompt_generator=few_shot_prompter.generate_prompt)"
   ]
  },
  {
   "cell_type": "markdown",
   "metadata": {},
   "source": [
    "##### sample_num 8"
   ]
  },
  {
   "cell_type": "code",
   "execution_count": null,
   "metadata": {},
   "outputs": [],
   "source": [
    "few_shot_prompter = FewShotPrompter1(template=few_shot_prompt, sample_dataset=train_dataset, \n",
    "                                     sample_molecule_format='maccs_fp', \n",
    "                                     sample_mode='tanimoto_similarity', \n",
    "                                     sample_num=8)\n",
    "\n",
    "main(dataset=test_dataset, batch_size=batch_size, total_batches=total_batches, model=m, prompt_generator=few_shot_prompter.generate_prompt)"
   ]
  },
  {
   "cell_type": "markdown",
   "metadata": {},
   "source": [
    "#### sample_molecule_format rdk_fp"
   ]
  },
  {
   "cell_type": "markdown",
   "metadata": {},
   "source": [
    "##### sample_num 2"
   ]
  },
  {
   "cell_type": "code",
   "execution_count": null,
   "metadata": {},
   "outputs": [],
   "source": [
    "few_shot_prompter = FewShotPrompter1(template=few_shot_prompt, sample_dataset=train_dataset, \n",
    "                                     sample_molecule_format='rdk_fp', \n",
    "                                     sample_mode='tanimoto_similarity', \n",
    "                                     sample_num=2)\n",
    "\n",
    "main(dataset=test_dataset, batch_size=batch_size, total_batches=total_batches, model=m, prompt_generator=few_shot_prompter.generate_prompt)"
   ]
  },
  {
   "cell_type": "markdown",
   "metadata": {},
   "source": [
    "##### sample_num 4"
   ]
  },
  {
   "cell_type": "code",
   "execution_count": null,
   "metadata": {},
   "outputs": [],
   "source": [
    "few_shot_prompter = FewShotPrompter1(template=few_shot_prompt, sample_dataset=train_dataset, \n",
    "                                     sample_molecule_format='rdk_fp', \n",
    "                                     sample_mode='tanimoto_similarity', \n",
    "                                     sample_num=4)\n",
    "\n",
    "main(dataset=test_dataset, batch_size=batch_size, total_batches=total_batches, model=m, prompt_generator=few_shot_prompter.generate_prompt)"
   ]
  },
  {
   "cell_type": "markdown",
   "metadata": {},
   "source": [
    "##### sample_num 8"
   ]
  },
  {
   "cell_type": "code",
   "execution_count": null,
   "metadata": {},
   "outputs": [],
   "source": [
    "few_shot_prompter = FewShotPrompter1(template=few_shot_prompt, sample_dataset=train_dataset, \n",
    "                                     sample_molecule_format='rdk_fp', \n",
    "                                     sample_mode='tanimoto_similarity', \n",
    "                                     sample_num=8)\n",
    "\n",
    "main(dataset=test_dataset, batch_size=batch_size, total_batches=total_batches, model=m, prompt_generator=few_shot_prompter.generate_prompt)"
   ]
  },
  {
   "cell_type": "markdown",
   "metadata": {},
   "source": [
    "#### sample_molecule_format morgan_fp"
   ]
  },
  {
   "cell_type": "markdown",
   "metadata": {},
   "source": [
    "##### sample_num 2"
   ]
  },
  {
   "cell_type": "code",
   "execution_count": null,
   "metadata": {},
   "outputs": [],
   "source": [
    "few_shot_prompter = FewShotPrompter1(template=few_shot_prompt, sample_dataset=train_dataset, \n",
    "                                     sample_molecule_format='morgan_fp', \n",
    "                                     sample_mode='tanimoto_similarity', \n",
    "                                     sample_num=2)\n",
    "\n",
    "main(dataset=test_dataset, batch_size=batch_size, total_batches=total_batches, model=m, prompt_generator=few_shot_prompter.generate_prompt)"
   ]
  },
  {
   "cell_type": "markdown",
   "metadata": {},
   "source": [
    "##### sample_num 4"
   ]
  },
  {
   "cell_type": "code",
   "execution_count": null,
   "metadata": {},
   "outputs": [],
   "source": [
    "few_shot_prompter = FewShotPrompter1(template=few_shot_prompt, sample_dataset=train_dataset, \n",
    "                                     sample_molecule_format='morgan_fp', \n",
    "                                     sample_mode='tanimoto_similarity', \n",
    "                                     sample_num=4)\n",
    "\n",
    "main(dataset=test_dataset, batch_size=batch_size, total_batches=total_batches, model=m, prompt_generator=few_shot_prompter.generate_prompt)"
   ]
  },
  {
   "cell_type": "markdown",
   "metadata": {},
   "source": [
    "##### sample_num 8"
   ]
  },
  {
   "cell_type": "code",
   "execution_count": null,
   "metadata": {},
   "outputs": [],
   "source": [
    "few_shot_prompter = FewShotPrompter1(template=few_shot_prompt, sample_dataset=train_dataset, \n",
    "                                     sample_molecule_format='morgan_fp', \n",
    "                                     sample_mode='tanimoto_similarity', \n",
    "                                     sample_num=8)\n",
    "\n",
    "main(dataset=test_dataset, batch_size=batch_size, total_batches=total_batches, model=m, prompt_generator=few_shot_prompter.generate_prompt)"
   ]
  }
 ],
 "metadata": {
  "kernelspec": {
   "display_name": "LZZ",
   "language": "python",
   "name": "python3"
  },
  "language_info": {
   "codemirror_mode": {
    "name": "ipython",
    "version": 3
   },
   "file_extension": ".py",
   "mimetype": "text/x-python",
   "name": "python",
   "nbconvert_exporter": "python",
   "pygments_lexer": "ipython3",
   "version": "3.8.18"
  }
 },
 "nbformat": 4,
 "nbformat_minor": 2
}
